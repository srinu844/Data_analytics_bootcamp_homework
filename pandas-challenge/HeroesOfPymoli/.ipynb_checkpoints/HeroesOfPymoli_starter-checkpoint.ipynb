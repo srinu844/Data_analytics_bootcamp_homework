{
 "cells": [
  {
   "cell_type": "markdown",
   "metadata": {},
   "source": [
    "### Heroes Of Pymoli Data Analysis\n",
    "* Of the 1163 active players, the vast majority are male (84%). There also exists, a smaller, but notable proportion of female players (14%).\n",
    "\n",
    "* Our peak age demographic falls between 20-24 (44.8%) with secondary groups falling between 15-19 (18.60%) and 25-29 (13.4%).  \n",
    "-----"
   ]
  },
  {
   "cell_type": "markdown",
   "metadata": {},
   "source": [
    "### Note\n",
    "* Instructions have been included for each segment. You do not have to follow them exactly, but they are included to help you think through the steps."
   ]
  },
  {
   "cell_type": "code",
   "execution_count": 114,
   "metadata": {},
   "outputs": [
    {
     "name": "stdout",
     "output_type": "stream",
     "text": [
      "<class 'pandas.core.frame.DataFrame'>\n",
      "RangeIndex: 780 entries, 0 to 779\n",
      "Data columns (total 7 columns):\n",
      "Purchase ID    780 non-null int64\n",
      "SN             780 non-null object\n",
      "Age            780 non-null int64\n",
      "Gender         780 non-null object\n",
      "Item ID        780 non-null int64\n",
      "Item Name      780 non-null object\n",
      "Price          780 non-null float64\n",
      "dtypes: float64(1), int64(3), object(3)\n",
      "memory usage: 42.8+ KB\n"
     ]
    },
    {
     "data": {
      "text/html": [
       "<div>\n",
       "<style scoped>\n",
       "    .dataframe tbody tr th:only-of-type {\n",
       "        vertical-align: middle;\n",
       "    }\n",
       "\n",
       "    .dataframe tbody tr th {\n",
       "        vertical-align: top;\n",
       "    }\n",
       "\n",
       "    .dataframe thead th {\n",
       "        text-align: right;\n",
       "    }\n",
       "</style>\n",
       "<table border=\"1\" class=\"dataframe\">\n",
       "  <thead>\n",
       "    <tr style=\"text-align: right;\">\n",
       "      <th></th>\n",
       "      <th>Purchase ID</th>\n",
       "      <th>SN</th>\n",
       "      <th>Age</th>\n",
       "      <th>Gender</th>\n",
       "      <th>Item ID</th>\n",
       "      <th>Item Name</th>\n",
       "      <th>Price</th>\n",
       "    </tr>\n",
       "  </thead>\n",
       "  <tbody>\n",
       "    <tr>\n",
       "      <td>0</td>\n",
       "      <td>0</td>\n",
       "      <td>Lisim78</td>\n",
       "      <td>20</td>\n",
       "      <td>Male</td>\n",
       "      <td>108</td>\n",
       "      <td>Extraction, Quickblade Of Trembling Hands</td>\n",
       "      <td>3.53</td>\n",
       "    </tr>\n",
       "    <tr>\n",
       "      <td>1</td>\n",
       "      <td>1</td>\n",
       "      <td>Lisovynya38</td>\n",
       "      <td>40</td>\n",
       "      <td>Male</td>\n",
       "      <td>143</td>\n",
       "      <td>Frenzied Scimitar</td>\n",
       "      <td>1.56</td>\n",
       "    </tr>\n",
       "    <tr>\n",
       "      <td>2</td>\n",
       "      <td>2</td>\n",
       "      <td>Ithergue48</td>\n",
       "      <td>24</td>\n",
       "      <td>Male</td>\n",
       "      <td>92</td>\n",
       "      <td>Final Critic</td>\n",
       "      <td>4.88</td>\n",
       "    </tr>\n",
       "    <tr>\n",
       "      <td>3</td>\n",
       "      <td>3</td>\n",
       "      <td>Chamassasya86</td>\n",
       "      <td>24</td>\n",
       "      <td>Male</td>\n",
       "      <td>100</td>\n",
       "      <td>Blindscythe</td>\n",
       "      <td>3.27</td>\n",
       "    </tr>\n",
       "    <tr>\n",
       "      <td>4</td>\n",
       "      <td>4</td>\n",
       "      <td>Iskosia90</td>\n",
       "      <td>23</td>\n",
       "      <td>Male</td>\n",
       "      <td>131</td>\n",
       "      <td>Fury</td>\n",
       "      <td>1.44</td>\n",
       "    </tr>\n",
       "    <tr>\n",
       "      <td>...</td>\n",
       "      <td>...</td>\n",
       "      <td>...</td>\n",
       "      <td>...</td>\n",
       "      <td>...</td>\n",
       "      <td>...</td>\n",
       "      <td>...</td>\n",
       "      <td>...</td>\n",
       "    </tr>\n",
       "    <tr>\n",
       "      <td>775</td>\n",
       "      <td>775</td>\n",
       "      <td>Aethedru70</td>\n",
       "      <td>21</td>\n",
       "      <td>Female</td>\n",
       "      <td>60</td>\n",
       "      <td>Wolf</td>\n",
       "      <td>3.54</td>\n",
       "    </tr>\n",
       "    <tr>\n",
       "      <td>776</td>\n",
       "      <td>776</td>\n",
       "      <td>Iral74</td>\n",
       "      <td>21</td>\n",
       "      <td>Male</td>\n",
       "      <td>164</td>\n",
       "      <td>Exiled Doomblade</td>\n",
       "      <td>1.63</td>\n",
       "    </tr>\n",
       "    <tr>\n",
       "      <td>777</td>\n",
       "      <td>777</td>\n",
       "      <td>Yathecal72</td>\n",
       "      <td>20</td>\n",
       "      <td>Male</td>\n",
       "      <td>67</td>\n",
       "      <td>Celeste, Incarnation of the Corrupted</td>\n",
       "      <td>3.46</td>\n",
       "    </tr>\n",
       "    <tr>\n",
       "      <td>778</td>\n",
       "      <td>778</td>\n",
       "      <td>Sisur91</td>\n",
       "      <td>7</td>\n",
       "      <td>Male</td>\n",
       "      <td>92</td>\n",
       "      <td>Final Critic</td>\n",
       "      <td>4.19</td>\n",
       "    </tr>\n",
       "    <tr>\n",
       "      <td>779</td>\n",
       "      <td>779</td>\n",
       "      <td>Ennrian78</td>\n",
       "      <td>24</td>\n",
       "      <td>Male</td>\n",
       "      <td>50</td>\n",
       "      <td>Dawn</td>\n",
       "      <td>4.60</td>\n",
       "    </tr>\n",
       "  </tbody>\n",
       "</table>\n",
       "<p>780 rows × 7 columns</p>\n",
       "</div>"
      ],
      "text/plain": [
       "     Purchase ID             SN  Age  Gender  Item ID  \\\n",
       "0              0        Lisim78   20    Male      108   \n",
       "1              1    Lisovynya38   40    Male      143   \n",
       "2              2     Ithergue48   24    Male       92   \n",
       "3              3  Chamassasya86   24    Male      100   \n",
       "4              4      Iskosia90   23    Male      131   \n",
       "..           ...            ...  ...     ...      ...   \n",
       "775          775     Aethedru70   21  Female       60   \n",
       "776          776         Iral74   21    Male      164   \n",
       "777          777     Yathecal72   20    Male       67   \n",
       "778          778        Sisur91    7    Male       92   \n",
       "779          779      Ennrian78   24    Male       50   \n",
       "\n",
       "                                     Item Name  Price  \n",
       "0    Extraction, Quickblade Of Trembling Hands   3.53  \n",
       "1                            Frenzied Scimitar   1.56  \n",
       "2                                 Final Critic   4.88  \n",
       "3                                  Blindscythe   3.27  \n",
       "4                                         Fury   1.44  \n",
       "..                                         ...    ...  \n",
       "775                                       Wolf   3.54  \n",
       "776                           Exiled Doomblade   1.63  \n",
       "777      Celeste, Incarnation of the Corrupted   3.46  \n",
       "778                               Final Critic   4.19  \n",
       "779                                       Dawn   4.60  \n",
       "\n",
       "[780 rows x 7 columns]"
      ]
     },
     "execution_count": 114,
     "metadata": {},
     "output_type": "execute_result"
    }
   ],
   "source": [
    "# Dependencies and Setup\n",
    "import pandas as pd\n",
    "\n",
    "# File to Load (Remember to Change These)\n",
    "file_to_load = \"Resources/purchase_data.csv\"\n",
    "\n",
    "# Read Purchasing File and store into Pandas data frame\n",
    "purchase_data = pd.read_csv(file_to_load)\n",
    "purchase_data.info()\n",
    "purchase_data"
   ]
  },
  {
   "cell_type": "markdown",
   "metadata": {},
   "source": [
    "## Player Count"
   ]
  },
  {
   "cell_type": "code",
   "execution_count": 116,
   "metadata": {},
   "outputs": [
    {
     "data": {
      "text/plain": [
       "576"
      ]
     },
     "execution_count": 116,
     "metadata": {},
     "output_type": "execute_result"
    }
   ],
   "source": [
    "Total_player = len(purchase_data[\"SN\"].unique())\n",
    "Total_player"
   ]
  },
  {
   "cell_type": "code",
   "execution_count": 117,
   "metadata": {},
   "outputs": [
    {
     "data": {
      "text/html": [
       "<div>\n",
       "<style scoped>\n",
       "    .dataframe tbody tr th:only-of-type {\n",
       "        vertical-align: middle;\n",
       "    }\n",
       "\n",
       "    .dataframe tbody tr th {\n",
       "        vertical-align: top;\n",
       "    }\n",
       "\n",
       "    .dataframe thead th {\n",
       "        text-align: right;\n",
       "    }\n",
       "</style>\n",
       "<table border=\"1\" class=\"dataframe\">\n",
       "  <thead>\n",
       "    <tr style=\"text-align: right;\">\n",
       "      <th></th>\n",
       "      <th>Total players</th>\n",
       "    </tr>\n",
       "  </thead>\n",
       "  <tbody>\n",
       "    <tr>\n",
       "      <td>0</td>\n",
       "      <td>576</td>\n",
       "    </tr>\n",
       "  </tbody>\n",
       "</table>\n",
       "</div>"
      ],
      "text/plain": [
       "   Total players\n",
       "0            576"
      ]
     },
     "execution_count": 117,
     "metadata": {},
     "output_type": "execute_result"
    }
   ],
   "source": [
    "Summary_Total_player = pd.DataFrame({\"Total players\": [Total_player]})\n",
    "Summary_Total_player"
   ]
  },
  {
   "cell_type": "markdown",
   "metadata": {},
   "source": [
    "## Purchasing Analysis (Total)"
   ]
  },
  {
   "cell_type": "markdown",
   "metadata": {},
   "source": [
    "* Run basic calculations to obtain number of unique items, average price, etc.\n",
    "\n",
    "\n",
    "* Create a summary data frame to hold the results\n",
    "\n",
    "\n",
    "* Optional: give the displayed data cleaner formatting\n",
    "\n",
    "\n",
    "* Display the summary data frame\n"
   ]
  },
  {
   "cell_type": "code",
   "execution_count": 118,
   "metadata": {},
   "outputs": [
    {
     "data": {
      "text/plain": [
       "179"
      ]
     },
     "execution_count": 118,
     "metadata": {},
     "output_type": "execute_result"
    }
   ],
   "source": [
    "# number of unique items\n",
    "Unique_items = len(purchase_data[\"Item Name\"].unique())\n",
    "Unique_items"
   ]
  },
  {
   "cell_type": "code",
   "execution_count": 119,
   "metadata": {
    "scrolled": true
   },
   "outputs": [
    {
     "data": {
      "text/html": [
       "<div>\n",
       "<style scoped>\n",
       "    .dataframe tbody tr th:only-of-type {\n",
       "        vertical-align: middle;\n",
       "    }\n",
       "\n",
       "    .dataframe tbody tr th {\n",
       "        vertical-align: top;\n",
       "    }\n",
       "\n",
       "    .dataframe thead th {\n",
       "        text-align: right;\n",
       "    }\n",
       "</style>\n",
       "<table border=\"1\" class=\"dataframe\">\n",
       "  <thead>\n",
       "    <tr style=\"text-align: right;\">\n",
       "      <th></th>\n",
       "      <th>Number of Unique Items</th>\n",
       "      <th>Average Price</th>\n",
       "      <th>Number of Purchases</th>\n",
       "      <th>Total Revenue</th>\n",
       "    </tr>\n",
       "  </thead>\n",
       "  <tbody>\n",
       "    <tr>\n",
       "      <td>0</td>\n",
       "      <td>179</td>\n",
       "      <td>3.050987</td>\n",
       "      <td>780</td>\n",
       "      <td>2379.77</td>\n",
       "    </tr>\n",
       "  </tbody>\n",
       "</table>\n",
       "</div>"
      ],
      "text/plain": [
       "   Number of Unique Items  Average Price  Number of Purchases  Total Revenue\n",
       "0                     179       3.050987                  780        2379.77"
      ]
     },
     "execution_count": 119,
     "metadata": {},
     "output_type": "execute_result"
    }
   ],
   "source": [
    "# Average price\n",
    "avg_price = purchase_data['Price'].mean()\n",
    "# purchases\n",
    "purchases_df = purchase_data['Price'].count()\n",
    "# revenue\n",
    "revenue_df = purchase_data['Price'].sum()\n",
    "\n",
    "summary_UAPR = pd.DataFrame({\"Number of Unique Items\": [Unique_items],\n",
    "                              \"Average Price\": avg_price,\n",
    "                              \"Number of Purchases\": purchases_df,\n",
    "                              \"Total Revenue\": revenue_df})\n",
    "summary_UAPR"
   ]
  },
  {
   "cell_type": "code",
   "execution_count": 175,
   "metadata": {},
   "outputs": [
    {
     "data": {
      "text/html": [
       "<style  type=\"text/css\" >\n",
       "</style><table id=\"T_6ab4bec4_74ed_11ea_a974_a0999b0e91c7\" ><thead>    <tr>        <th class=\"blank level0\" ></th>        <th class=\"col_heading level0 col0\" >Number of Unique Items</th>        <th class=\"col_heading level0 col1\" >Average Price</th>        <th class=\"col_heading level0 col2\" >Number of Purchases</th>        <th class=\"col_heading level0 col3\" >Total Revenue</th>    </tr></thead><tbody>\n",
       "                <tr>\n",
       "                        <th id=\"T_6ab4bec4_74ed_11ea_a974_a0999b0e91c7level0_row0\" class=\"row_heading level0 row0\" >0</th>\n",
       "                        <td id=\"T_6ab4bec4_74ed_11ea_a974_a0999b0e91c7row0_col0\" class=\"data row0 col0\" >179</td>\n",
       "                        <td id=\"T_6ab4bec4_74ed_11ea_a974_a0999b0e91c7row0_col1\" class=\"data row0 col1\" >$3.05</td>\n",
       "                        <td id=\"T_6ab4bec4_74ed_11ea_a974_a0999b0e91c7row0_col2\" class=\"data row0 col2\" >780</td>\n",
       "                        <td id=\"T_6ab4bec4_74ed_11ea_a974_a0999b0e91c7row0_col3\" class=\"data row0 col3\" >$2,379.77</td>\n",
       "            </tr>\n",
       "    </tbody></table>"
      ],
      "text/plain": [
       "<pandas.io.formats.style.Styler at 0x11bdb2250>"
      ]
     },
     "execution_count": 175,
     "metadata": {},
     "output_type": "execute_result"
    }
   ],
   "source": [
    "#summary_UAPR[\"Average Price\"]=summary_UAPR[\"Average Price\"].map(\"${:,.2f}\".format)\n",
    "#summary_UAPR[\"Total Revenue\"] = summary_UAPR[\"Total Revenue\"].map(\"${:,.2f}\".format)\n",
    "summary_UAPR.style"
   ]
  },
  {
   "cell_type": "markdown",
   "metadata": {},
   "source": [
    "## Gender Demographics"
   ]
  },
  {
   "cell_type": "markdown",
   "metadata": {},
   "source": [
    "* Percentage and Count of Male Players\n",
    "\n",
    "\n",
    "* Percentage and Count of Female Players\n",
    "\n",
    "\n",
    "* Percentage and Count of Other / Non-Disclosed\n",
    "\n",
    "\n"
   ]
  },
  {
   "cell_type": "code",
   "execution_count": 162,
   "metadata": {
    "scrolled": false
   },
   "outputs": [
    {
     "data": {
      "text/html": [
       "<style  type=\"text/css\" >\n",
       "</style><table id=\"T_61c2f91c_74ec_11ea_a974_a0999b0e91c7\" ><thead>    <tr>        <th class=\"blank level0\" ></th>        <th class=\"col_heading level0 col0\" >Percentage of Players</th>        <th class=\"col_heading level0 col1\" >Total Count</th>    </tr>    <tr>        <th class=\"index_name level0\" >Gender</th>        <th class=\"blank\" ></th>        <th class=\"blank\" ></th>    </tr></thead><tbody>\n",
       "                <tr>\n",
       "                        <th id=\"T_61c2f91c_74ec_11ea_a974_a0999b0e91c7level0_row0\" class=\"row_heading level0 row0\" >Female</th>\n",
       "                        <td id=\"T_61c2f91c_74ec_11ea_a974_a0999b0e91c7row0_col0\" class=\"data row0 col0\" >14.06</td>\n",
       "                        <td id=\"T_61c2f91c_74ec_11ea_a974_a0999b0e91c7row0_col1\" class=\"data row0 col1\" >81</td>\n",
       "            </tr>\n",
       "            <tr>\n",
       "                        <th id=\"T_61c2f91c_74ec_11ea_a974_a0999b0e91c7level0_row1\" class=\"row_heading level0 row1\" >Male</th>\n",
       "                        <td id=\"T_61c2f91c_74ec_11ea_a974_a0999b0e91c7row1_col0\" class=\"data row1 col0\" >84.03</td>\n",
       "                        <td id=\"T_61c2f91c_74ec_11ea_a974_a0999b0e91c7row1_col1\" class=\"data row1 col1\" >484</td>\n",
       "            </tr>\n",
       "            <tr>\n",
       "                        <th id=\"T_61c2f91c_74ec_11ea_a974_a0999b0e91c7level0_row2\" class=\"row_heading level0 row2\" >Other / Non-Disclosed</th>\n",
       "                        <td id=\"T_61c2f91c_74ec_11ea_a974_a0999b0e91c7row2_col0\" class=\"data row2 col0\" >1.91</td>\n",
       "                        <td id=\"T_61c2f91c_74ec_11ea_a974_a0999b0e91c7row2_col1\" class=\"data row2 col1\" >11</td>\n",
       "            </tr>\n",
       "    </tbody></table>"
      ],
      "text/plain": [
       "<pandas.io.formats.style.Styler at 0x11c13a310>"
      ]
     },
     "execution_count": 162,
     "metadata": {},
     "output_type": "execute_result"
    }
   ],
   "source": [
    "\n",
    "#GENDER DEMOGRAPHICS\n",
    "\n",
    "# grouping by SN and Gender\n",
    "Gender_demographic = purchase_data.groupby([\"SN\",\"Gender\"])\n",
    "Gender_demographic_df = pd.DataFrame(Gender_demographic.size())\n",
    "\n",
    "#Counting number of players by gender\n",
    "Gender_agg_df = pd.DataFrame(Gender_demographic_df.groupby([\"Gender\"]).count())\n",
    "Gender_agg_df.columns =[\"Total Count\"]\n",
    "\n",
    "# Pecentage of players in each group\n",
    "Gender_agg_df[\"Percentage of Players\"] = round(100*(Gender_agg_df[\"Total Count\"]/Gender_agg_df[\"Total Count\"].sum()),2)\n",
    "Gender_agg_df= Gender_agg_df[[\"Percentage of Players\",\"Total Count\"]]\n",
    "\n",
    "Gender_agg_df.sort_values('Total Count', ascending = False)\n",
    "Gender_agg_df.style"
   ]
  },
  {
   "cell_type": "markdown",
   "metadata": {},
   "source": [
    "\n",
    "## Purchasing Analysis (Gender)"
   ]
  },
  {
   "cell_type": "markdown",
   "metadata": {},
   "source": [
    "* Run basic calculations to obtain purchase count, avg. purchase price, avg. purchase total per person etc. by gender\n",
    "\n",
    "\n",
    "\n",
    "\n",
    "* Create a summary data frame to hold the results\n",
    "\n",
    "\n",
    "* Optional: give the displayed data cleaner formatting\n",
    "\n",
    "\n",
    "* Display the summary data frame"
   ]
  },
  {
   "cell_type": "code",
   "execution_count": 177,
   "metadata": {},
   "outputs": [
    {
     "data": {
      "text/html": [
       "<style  type=\"text/css\" >\n",
       "</style><table id=\"T_d8477a1c_74ed_11ea_a974_a0999b0e91c7\" ><thead>    <tr>        <th class=\"blank level0\" ></th>        <th class=\"col_heading level0 col0\" >Purchase Count</th>        <th class=\"col_heading level0 col1\" >Average Purchase Price</th>        <th class=\"col_heading level0 col2\" >Total Purchase Value</th>        <th class=\"col_heading level0 col3\" >Avg Total Purchase per Person</th>    </tr>    <tr>        <th class=\"index_name level0\" >Gender</th>        <th class=\"blank\" ></th>        <th class=\"blank\" ></th>        <th class=\"blank\" ></th>        <th class=\"blank\" ></th>    </tr></thead><tbody>\n",
       "                <tr>\n",
       "                        <th id=\"T_d8477a1c_74ed_11ea_a974_a0999b0e91c7level0_row0\" class=\"row_heading level0 row0\" >Female</th>\n",
       "                        <td id=\"T_d8477a1c_74ed_11ea_a974_a0999b0e91c7row0_col0\" class=\"data row0 col0\" >113</td>\n",
       "                        <td id=\"T_d8477a1c_74ed_11ea_a974_a0999b0e91c7row0_col1\" class=\"data row0 col1\" >$3.20</td>\n",
       "                        <td id=\"T_d8477a1c_74ed_11ea_a974_a0999b0e91c7row0_col2\" class=\"data row0 col2\" >$361.94</td>\n",
       "                        <td id=\"T_d8477a1c_74ed_11ea_a974_a0999b0e91c7row0_col3\" class=\"data row0 col3\" >$4.47</td>\n",
       "            </tr>\n",
       "            <tr>\n",
       "                        <th id=\"T_d8477a1c_74ed_11ea_a974_a0999b0e91c7level0_row1\" class=\"row_heading level0 row1\" >Male</th>\n",
       "                        <td id=\"T_d8477a1c_74ed_11ea_a974_a0999b0e91c7row1_col0\" class=\"data row1 col0\" >652</td>\n",
       "                        <td id=\"T_d8477a1c_74ed_11ea_a974_a0999b0e91c7row1_col1\" class=\"data row1 col1\" >$3.02</td>\n",
       "                        <td id=\"T_d8477a1c_74ed_11ea_a974_a0999b0e91c7row1_col2\" class=\"data row1 col2\" >$1,967.64</td>\n",
       "                        <td id=\"T_d8477a1c_74ed_11ea_a974_a0999b0e91c7row1_col3\" class=\"data row1 col3\" >$4.07</td>\n",
       "            </tr>\n",
       "            <tr>\n",
       "                        <th id=\"T_d8477a1c_74ed_11ea_a974_a0999b0e91c7level0_row2\" class=\"row_heading level0 row2\" >Other / Non-Disclosed</th>\n",
       "                        <td id=\"T_d8477a1c_74ed_11ea_a974_a0999b0e91c7row2_col0\" class=\"data row2 col0\" >15</td>\n",
       "                        <td id=\"T_d8477a1c_74ed_11ea_a974_a0999b0e91c7row2_col1\" class=\"data row2 col1\" >$3.35</td>\n",
       "                        <td id=\"T_d8477a1c_74ed_11ea_a974_a0999b0e91c7row2_col2\" class=\"data row2 col2\" >$50.19</td>\n",
       "                        <td id=\"T_d8477a1c_74ed_11ea_a974_a0999b0e91c7row2_col3\" class=\"data row2 col3\" >$4.56</td>\n",
       "            </tr>\n",
       "    </tbody></table>"
      ],
      "text/plain": [
       "<pandas.io.formats.style.Styler at 0x11d3b8e10>"
      ]
     },
     "execution_count": 177,
     "metadata": {},
     "output_type": "execute_result"
    }
   ],
   "source": [
    "#Purchase Count\n",
    "\n",
    "gender_purchases_df = purchase_data.groupby(\"Gender\")[\"Item Name\"]\n",
    "gender_purchases_df= gender_purchases_df.size()\n",
    "\n",
    "#Average Purchase Price\n",
    "average_price = purchase_data.groupby(\"Gender\")[\"Price\"].mean()\n",
    "\n",
    "#Total Purchase Value\n",
    "purchase_price = purchase_data.groupby(\"Gender\")[\"Price\"].sum()\n",
    "\n",
    "#Average total purchase per person\n",
    "gender_count_df = purchase_data.groupby(\"Gender\")[\"SN\"].nunique()\n",
    "avg_total_per_person = (purchase_price/gender_count_df)\n",
    "\n",
    "#avg_total_per_person\n",
    "summary_gender_df = pd.DataFrame({\"Purchase Count\": gender_purchases_df, \"Average Purchase Price\": average_price,\"Total Purchase Value\": purchase_price,\"Avg Total Purchase per Person\": avg_total_per_person})\n",
    "summary_gender_df[\"Average Purchase Price\"] = summary_gender_df[\"Average Purchase Price\"].map(\"${:,.2f}\".format)\n",
    "summary_gender_df[\"Total Purchase Value\"] = summary_gender_df[\"Total Purchase Value\"].map(\"${:,.2f}\".format)\n",
    "summary_gender_df[\"Avg Total Purchase per Person\"] = summary_gender_df[\"Avg Total Purchase per Person\"].map(\"${:,.2f}\".format)\n",
    "summary_gender_df.style"
   ]
  },
  {
   "cell_type": "markdown",
   "metadata": {},
   "source": [
    "## Age Demographics"
   ]
  },
  {
   "cell_type": "markdown",
   "metadata": {},
   "source": [
    "* Establish bins for ages\n",
    "\n",
    "\n",
    "* Categorize the existing players using the age bins. Hint: use pd.cut()\n",
    "\n",
    "\n",
    "* Calculate the numbers and percentages by age group\n",
    "\n",
    "\n",
    "* Create a summary data frame to hold the results\n",
    "\n",
    "\n",
    "* Optional: round the percentage column to two decimal points\n",
    "\n",
    "\n",
    "* Display Age Demographics Table\n"
   ]
  },
  {
   "cell_type": "code",
   "execution_count": 194,
   "metadata": {},
   "outputs": [
    {
     "data": {
      "text/html": [
       "<style  type=\"text/css\" >\n",
       "</style><table id=\"T_b298ac52_74fa_11ea_a974_a0999b0e91c7\" ><thead>    <tr>        <th class=\"blank level0\" ></th>        <th class=\"col_heading level0 col0\" >Total Count</th>        <th class=\"col_heading level0 col1\" >Percentage of Players</th>    </tr>    <tr>        <th class=\"index_name level0\" >Age Group</th>        <th class=\"blank\" ></th>        <th class=\"blank\" ></th>    </tr></thead><tbody>\n",
       "                <tr>\n",
       "                        <th id=\"T_b298ac52_74fa_11ea_a974_a0999b0e91c7level0_row0\" class=\"row_heading level0 row0\" ><10</th>\n",
       "                        <td id=\"T_b298ac52_74fa_11ea_a974_a0999b0e91c7row0_col0\" class=\"data row0 col0\" >17</td>\n",
       "                        <td id=\"T_b298ac52_74fa_11ea_a974_a0999b0e91c7row0_col1\" class=\"data row0 col1\" >2.95%</td>\n",
       "            </tr>\n",
       "            <tr>\n",
       "                        <th id=\"T_b298ac52_74fa_11ea_a974_a0999b0e91c7level0_row1\" class=\"row_heading level0 row1\" >10-14</th>\n",
       "                        <td id=\"T_b298ac52_74fa_11ea_a974_a0999b0e91c7row1_col0\" class=\"data row1 col0\" >22</td>\n",
       "                        <td id=\"T_b298ac52_74fa_11ea_a974_a0999b0e91c7row1_col1\" class=\"data row1 col1\" >3.82%</td>\n",
       "            </tr>\n",
       "            <tr>\n",
       "                        <th id=\"T_b298ac52_74fa_11ea_a974_a0999b0e91c7level0_row2\" class=\"row_heading level0 row2\" >15-19</th>\n",
       "                        <td id=\"T_b298ac52_74fa_11ea_a974_a0999b0e91c7row2_col0\" class=\"data row2 col0\" >107</td>\n",
       "                        <td id=\"T_b298ac52_74fa_11ea_a974_a0999b0e91c7row2_col1\" class=\"data row2 col1\" >18.58%</td>\n",
       "            </tr>\n",
       "            <tr>\n",
       "                        <th id=\"T_b298ac52_74fa_11ea_a974_a0999b0e91c7level0_row3\" class=\"row_heading level0 row3\" >20-24</th>\n",
       "                        <td id=\"T_b298ac52_74fa_11ea_a974_a0999b0e91c7row3_col0\" class=\"data row3 col0\" >258</td>\n",
       "                        <td id=\"T_b298ac52_74fa_11ea_a974_a0999b0e91c7row3_col1\" class=\"data row3 col1\" >44.79%</td>\n",
       "            </tr>\n",
       "            <tr>\n",
       "                        <th id=\"T_b298ac52_74fa_11ea_a974_a0999b0e91c7level0_row4\" class=\"row_heading level0 row4\" >25-29</th>\n",
       "                        <td id=\"T_b298ac52_74fa_11ea_a974_a0999b0e91c7row4_col0\" class=\"data row4 col0\" >77</td>\n",
       "                        <td id=\"T_b298ac52_74fa_11ea_a974_a0999b0e91c7row4_col1\" class=\"data row4 col1\" >13.37%</td>\n",
       "            </tr>\n",
       "            <tr>\n",
       "                        <th id=\"T_b298ac52_74fa_11ea_a974_a0999b0e91c7level0_row5\" class=\"row_heading level0 row5\" >30-34</th>\n",
       "                        <td id=\"T_b298ac52_74fa_11ea_a974_a0999b0e91c7row5_col0\" class=\"data row5 col0\" >52</td>\n",
       "                        <td id=\"T_b298ac52_74fa_11ea_a974_a0999b0e91c7row5_col1\" class=\"data row5 col1\" >9.03%</td>\n",
       "            </tr>\n",
       "            <tr>\n",
       "                        <th id=\"T_b298ac52_74fa_11ea_a974_a0999b0e91c7level0_row6\" class=\"row_heading level0 row6\" >35-39</th>\n",
       "                        <td id=\"T_b298ac52_74fa_11ea_a974_a0999b0e91c7row6_col0\" class=\"data row6 col0\" >31</td>\n",
       "                        <td id=\"T_b298ac52_74fa_11ea_a974_a0999b0e91c7row6_col1\" class=\"data row6 col1\" >5.38%</td>\n",
       "            </tr>\n",
       "            <tr>\n",
       "                        <th id=\"T_b298ac52_74fa_11ea_a974_a0999b0e91c7level0_row7\" class=\"row_heading level0 row7\" >40+</th>\n",
       "                        <td id=\"T_b298ac52_74fa_11ea_a974_a0999b0e91c7row7_col0\" class=\"data row7 col0\" >12</td>\n",
       "                        <td id=\"T_b298ac52_74fa_11ea_a974_a0999b0e91c7row7_col1\" class=\"data row7 col1\" >2.08%</td>\n",
       "            </tr>\n",
       "    </tbody></table>"
      ],
      "text/plain": [
       "<pandas.io.formats.style.Styler at 0x11c2ebd10>"
      ]
     },
     "execution_count": 194,
     "metadata": {},
     "output_type": "execute_result"
    }
   ],
   "source": [
    "\n",
    "#Age Demographics\n",
    "\n",
    "bins = [0, 9, 14, 19, 24,29,34,39,100]\n",
    "group_names = ['<10', '10-14', '15-19', '20-24','25-29','30-34','35-39','40+']\n",
    "\n",
    "purchase_data[\"Age Group\"] = pd.cut(purchase_data[\"Age\"], bins, labels=group_names)\n",
    "\n",
    "groupby_agegroup_SN = purchase_data.groupby([\"SN\",\"Age Group\"])\n",
    "\n",
    "                                                              \n",
    "uniquie_players_agegroup = pd.DataFrame(groupby_agegroup_SN.size())\n",
    "agegroup_df = pd.DataFrame(uniquie_players_agegroup.groupby([\"Age Group\"]).count())\n",
    "agegroup_df.columns= [\"Total Count\"]\n",
    "agegroup_df[\"Percentage of Players\"] =round(100 *agegroup_df[\"Total Count\"]/agegroup_df[\"Total Count\"].sum(),2).astype(str) + '%'\n",
    "\n",
    "agegroup_df.style"
   ]
  },
  {
   "cell_type": "markdown",
   "metadata": {},
   "source": [
    "## Purchasing Analysis (Age)"
   ]
  },
  {
   "cell_type": "markdown",
   "metadata": {},
   "source": [
    "* Bin the purchase_data data frame by age\n",
    "\n",
    "\n",
    "* Run basic calculations to obtain purchase count, avg. purchase price, avg. purchase total per person etc. in the table below\n",
    "\n",
    "\n",
    "* Create a summary data frame to hold the results\n",
    "\n",
    "\n",
    "* Optional: give the displayed data cleaner formatting\n",
    "\n",
    "\n",
    "* Display the summary data frame"
   ]
  },
  {
   "cell_type": "code",
   "execution_count": 195,
   "metadata": {},
   "outputs": [
    {
     "data": {
      "text/html": [
       "<div>\n",
       "<style scoped>\n",
       "    .dataframe tbody tr th:only-of-type {\n",
       "        vertical-align: middle;\n",
       "    }\n",
       "\n",
       "    .dataframe tbody tr th {\n",
       "        vertical-align: top;\n",
       "    }\n",
       "\n",
       "    .dataframe thead th {\n",
       "        text-align: right;\n",
       "    }\n",
       "</style>\n",
       "<table border=\"1\" class=\"dataframe\">\n",
       "  <thead>\n",
       "    <tr style=\"text-align: right;\">\n",
       "      <th></th>\n",
       "      <th>Purchase ID</th>\n",
       "      <th>SN</th>\n",
       "      <th>Age</th>\n",
       "      <th>Gender</th>\n",
       "      <th>Item ID</th>\n",
       "      <th>Item Name</th>\n",
       "      <th>Price</th>\n",
       "      <th>Age Range</th>\n",
       "      <th>Age Group</th>\n",
       "    </tr>\n",
       "  </thead>\n",
       "  <tbody>\n",
       "    <tr>\n",
       "      <td>0</td>\n",
       "      <td>0</td>\n",
       "      <td>Lisim78</td>\n",
       "      <td>20</td>\n",
       "      <td>Male</td>\n",
       "      <td>108</td>\n",
       "      <td>Extraction, Quickblade Of Trembling Hands</td>\n",
       "      <td>3.53</td>\n",
       "      <td>20-24</td>\n",
       "      <td>20-24</td>\n",
       "    </tr>\n",
       "    <tr>\n",
       "      <td>1</td>\n",
       "      <td>1</td>\n",
       "      <td>Lisovynya38</td>\n",
       "      <td>40</td>\n",
       "      <td>Male</td>\n",
       "      <td>143</td>\n",
       "      <td>Frenzied Scimitar</td>\n",
       "      <td>1.56</td>\n",
       "      <td>&gt;=40</td>\n",
       "      <td>40+</td>\n",
       "    </tr>\n",
       "    <tr>\n",
       "      <td>2</td>\n",
       "      <td>2</td>\n",
       "      <td>Ithergue48</td>\n",
       "      <td>24</td>\n",
       "      <td>Male</td>\n",
       "      <td>92</td>\n",
       "      <td>Final Critic</td>\n",
       "      <td>4.88</td>\n",
       "      <td>20-24</td>\n",
       "      <td>20-24</td>\n",
       "    </tr>\n",
       "    <tr>\n",
       "      <td>3</td>\n",
       "      <td>3</td>\n",
       "      <td>Chamassasya86</td>\n",
       "      <td>24</td>\n",
       "      <td>Male</td>\n",
       "      <td>100</td>\n",
       "      <td>Blindscythe</td>\n",
       "      <td>3.27</td>\n",
       "      <td>20-24</td>\n",
       "      <td>20-24</td>\n",
       "    </tr>\n",
       "    <tr>\n",
       "      <td>4</td>\n",
       "      <td>4</td>\n",
       "      <td>Iskosia90</td>\n",
       "      <td>23</td>\n",
       "      <td>Male</td>\n",
       "      <td>131</td>\n",
       "      <td>Fury</td>\n",
       "      <td>1.44</td>\n",
       "      <td>20-24</td>\n",
       "      <td>20-24</td>\n",
       "    </tr>\n",
       "  </tbody>\n",
       "</table>\n",
       "</div>"
      ],
      "text/plain": [
       "   Purchase ID             SN  Age Gender  Item ID  \\\n",
       "0            0        Lisim78   20   Male      108   \n",
       "1            1    Lisovynya38   40   Male      143   \n",
       "2            2     Ithergue48   24   Male       92   \n",
       "3            3  Chamassasya86   24   Male      100   \n",
       "4            4      Iskosia90   23   Male      131   \n",
       "\n",
       "                                   Item Name  Price Age Range Age Group  \n",
       "0  Extraction, Quickblade Of Trembling Hands   3.53     20-24     20-24  \n",
       "1                          Frenzied Scimitar   1.56      >=40       40+  \n",
       "2                               Final Critic   4.88     20-24     20-24  \n",
       "3                                Blindscythe   3.27     20-24     20-24  \n",
       "4                                       Fury   1.44     20-24     20-24  "
      ]
     },
     "execution_count": 195,
     "metadata": {},
     "output_type": "execute_result"
    }
   ],
   "source": [
    "purchase_data.head()"
   ]
  },
  {
   "cell_type": "code",
   "execution_count": 198,
   "metadata": {},
   "outputs": [
    {
     "data": {
      "text/html": [
       "<style  type=\"text/css\" >\n",
       "</style><table id=\"T_1245362e_74fc_11ea_a974_a0999b0e91c7\" ><thead>    <tr>        <th class=\"blank level0\" ></th>        <th class=\"col_heading level0 col0\" >Purchase Count</th>        <th class=\"col_heading level0 col1\" >Average Purchase Price</th>        <th class=\"col_heading level0 col2\" >Total Purchase Value</th>        <th class=\"col_heading level0 col3\" >Avg Total Purchase per Person</th>    </tr>    <tr>        <th class=\"index_name level0\" >Age Group</th>        <th class=\"blank\" ></th>        <th class=\"blank\" ></th>        <th class=\"blank\" ></th>        <th class=\"blank\" ></th>    </tr></thead><tbody>\n",
       "                <tr>\n",
       "                        <th id=\"T_1245362e_74fc_11ea_a974_a0999b0e91c7level0_row0\" class=\"row_heading level0 row0\" ><10</th>\n",
       "                        <td id=\"T_1245362e_74fc_11ea_a974_a0999b0e91c7row0_col0\" class=\"data row0 col0\" >23</td>\n",
       "                        <td id=\"T_1245362e_74fc_11ea_a974_a0999b0e91c7row0_col1\" class=\"data row0 col1\" >$3.35</td>\n",
       "                        <td id=\"T_1245362e_74fc_11ea_a974_a0999b0e91c7row0_col2\" class=\"data row0 col2\" >$77.13</td>\n",
       "                        <td id=\"T_1245362e_74fc_11ea_a974_a0999b0e91c7row0_col3\" class=\"data row0 col3\" >$4.54</td>\n",
       "            </tr>\n",
       "            <tr>\n",
       "                        <th id=\"T_1245362e_74fc_11ea_a974_a0999b0e91c7level0_row1\" class=\"row_heading level0 row1\" >10-14</th>\n",
       "                        <td id=\"T_1245362e_74fc_11ea_a974_a0999b0e91c7row1_col0\" class=\"data row1 col0\" >28</td>\n",
       "                        <td id=\"T_1245362e_74fc_11ea_a974_a0999b0e91c7row1_col1\" class=\"data row1 col1\" >$2.96</td>\n",
       "                        <td id=\"T_1245362e_74fc_11ea_a974_a0999b0e91c7row1_col2\" class=\"data row1 col2\" >$82.78</td>\n",
       "                        <td id=\"T_1245362e_74fc_11ea_a974_a0999b0e91c7row1_col3\" class=\"data row1 col3\" >$3.76</td>\n",
       "            </tr>\n",
       "            <tr>\n",
       "                        <th id=\"T_1245362e_74fc_11ea_a974_a0999b0e91c7level0_row2\" class=\"row_heading level0 row2\" >15-19</th>\n",
       "                        <td id=\"T_1245362e_74fc_11ea_a974_a0999b0e91c7row2_col0\" class=\"data row2 col0\" >136</td>\n",
       "                        <td id=\"T_1245362e_74fc_11ea_a974_a0999b0e91c7row2_col1\" class=\"data row2 col1\" >$3.04</td>\n",
       "                        <td id=\"T_1245362e_74fc_11ea_a974_a0999b0e91c7row2_col2\" class=\"data row2 col2\" >$412.89</td>\n",
       "                        <td id=\"T_1245362e_74fc_11ea_a974_a0999b0e91c7row2_col3\" class=\"data row2 col3\" >$3.86</td>\n",
       "            </tr>\n",
       "            <tr>\n",
       "                        <th id=\"T_1245362e_74fc_11ea_a974_a0999b0e91c7level0_row3\" class=\"row_heading level0 row3\" >20-24</th>\n",
       "                        <td id=\"T_1245362e_74fc_11ea_a974_a0999b0e91c7row3_col0\" class=\"data row3 col0\" >365</td>\n",
       "                        <td id=\"T_1245362e_74fc_11ea_a974_a0999b0e91c7row3_col1\" class=\"data row3 col1\" >$3.05</td>\n",
       "                        <td id=\"T_1245362e_74fc_11ea_a974_a0999b0e91c7row3_col2\" class=\"data row3 col2\" >$1,114.06</td>\n",
       "                        <td id=\"T_1245362e_74fc_11ea_a974_a0999b0e91c7row3_col3\" class=\"data row3 col3\" >$4.32</td>\n",
       "            </tr>\n",
       "            <tr>\n",
       "                        <th id=\"T_1245362e_74fc_11ea_a974_a0999b0e91c7level0_row4\" class=\"row_heading level0 row4\" >25-29</th>\n",
       "                        <td id=\"T_1245362e_74fc_11ea_a974_a0999b0e91c7row4_col0\" class=\"data row4 col0\" >101</td>\n",
       "                        <td id=\"T_1245362e_74fc_11ea_a974_a0999b0e91c7row4_col1\" class=\"data row4 col1\" >$2.90</td>\n",
       "                        <td id=\"T_1245362e_74fc_11ea_a974_a0999b0e91c7row4_col2\" class=\"data row4 col2\" >$293.00</td>\n",
       "                        <td id=\"T_1245362e_74fc_11ea_a974_a0999b0e91c7row4_col3\" class=\"data row4 col3\" >$3.81</td>\n",
       "            </tr>\n",
       "            <tr>\n",
       "                        <th id=\"T_1245362e_74fc_11ea_a974_a0999b0e91c7level0_row5\" class=\"row_heading level0 row5\" >30-34</th>\n",
       "                        <td id=\"T_1245362e_74fc_11ea_a974_a0999b0e91c7row5_col0\" class=\"data row5 col0\" >73</td>\n",
       "                        <td id=\"T_1245362e_74fc_11ea_a974_a0999b0e91c7row5_col1\" class=\"data row5 col1\" >$2.93</td>\n",
       "                        <td id=\"T_1245362e_74fc_11ea_a974_a0999b0e91c7row5_col2\" class=\"data row5 col2\" >$214.00</td>\n",
       "                        <td id=\"T_1245362e_74fc_11ea_a974_a0999b0e91c7row5_col3\" class=\"data row5 col3\" >$4.12</td>\n",
       "            </tr>\n",
       "            <tr>\n",
       "                        <th id=\"T_1245362e_74fc_11ea_a974_a0999b0e91c7level0_row6\" class=\"row_heading level0 row6\" >35-39</th>\n",
       "                        <td id=\"T_1245362e_74fc_11ea_a974_a0999b0e91c7row6_col0\" class=\"data row6 col0\" >41</td>\n",
       "                        <td id=\"T_1245362e_74fc_11ea_a974_a0999b0e91c7row6_col1\" class=\"data row6 col1\" >$3.60</td>\n",
       "                        <td id=\"T_1245362e_74fc_11ea_a974_a0999b0e91c7row6_col2\" class=\"data row6 col2\" >$147.67</td>\n",
       "                        <td id=\"T_1245362e_74fc_11ea_a974_a0999b0e91c7row6_col3\" class=\"data row6 col3\" >$4.76</td>\n",
       "            </tr>\n",
       "            <tr>\n",
       "                        <th id=\"T_1245362e_74fc_11ea_a974_a0999b0e91c7level0_row7\" class=\"row_heading level0 row7\" >40+</th>\n",
       "                        <td id=\"T_1245362e_74fc_11ea_a974_a0999b0e91c7row7_col0\" class=\"data row7 col0\" >13</td>\n",
       "                        <td id=\"T_1245362e_74fc_11ea_a974_a0999b0e91c7row7_col1\" class=\"data row7 col1\" >$2.94</td>\n",
       "                        <td id=\"T_1245362e_74fc_11ea_a974_a0999b0e91c7row7_col2\" class=\"data row7 col2\" >$38.24</td>\n",
       "                        <td id=\"T_1245362e_74fc_11ea_a974_a0999b0e91c7row7_col3\" class=\"data row7 col3\" >$3.19</td>\n",
       "            </tr>\n",
       "    </tbody></table>"
      ],
      "text/plain": [
       "<pandas.io.formats.style.Styler at 0x11c3e7110>"
      ]
     },
     "execution_count": 198,
     "metadata": {},
     "output_type": "execute_result"
    }
   ],
   "source": [
    "#Purchasing analysis (age)\n",
    "\n",
    "agegroup_purchases_df = purchase_data.groupby(\"Age Group\")[\"Item Name\"]\n",
    "agegroup_purchases_df= agegroup_purchases_df.size()\n",
    "\n",
    "#Average Purchase Price\n",
    "agegroup_average_price = purchase_data.groupby(\"Age Group\")[\"Price\"].mean()\n",
    "\n",
    "#Total Purchase Value\n",
    "agegroup_purchase_price = purchase_data.groupby(\"Age Group\")[\"Price\"].sum()\n",
    "\n",
    "#Average total purchase per person\n",
    "agegroup_gender_count_df = purchase_data.groupby(\"Age Group\")[\"SN\"].nunique()\n",
    "agegroup_avg_total_per_person = (agegroup_purchase_price/gender_count_df)\n",
    "\n",
    "#avg_total_per_person\n",
    "summary_gender_df = pd.DataFrame({\"Purchase Count\": agegroup_purchases_df, \"Average Purchase Price\": agegroup_average_price,\"Total Purchase Value\": agegroup_purchase_price,\"Avg Total Purchase per Person\": agegroup_avg_total_per_person})\n",
    "summary_gender_df[\"Average Purchase Price\"] = summary_gender_df[\"Average Purchase Price\"].map(\"${:,.2f}\".format)\n",
    "summary_gender_df[\"Total Purchase Value\"] = summary_gender_df[\"Total Purchase Value\"].map(\"${:,.2f}\".format)\n",
    "summary_gender_df[\"Avg Total Purchase per Person\"] = summary_gender_df[\"Avg Total Purchase per Person\"].map(\"${:,.2f}\".format)\n",
    "summary_gender_df.style"
   ]
  },
  {
   "cell_type": "markdown",
   "metadata": {},
   "source": [
    "## Top Spenders"
   ]
  },
  {
   "cell_type": "markdown",
   "metadata": {},
   "source": [
    "* Run basic calculations to obtain the results in the table below\n",
    "\n",
    "\n",
    "* Create a summary data frame to hold the results\n",
    "\n",
    "\n",
    "* Sort the total purchase value column in descending order\n",
    "\n",
    "\n",
    "* Optional: give the displayed data cleaner formatting\n",
    "\n",
    "\n",
    "* Display a preview of the summary data frame\n",
    "\n"
   ]
  },
  {
   "cell_type": "code",
   "execution_count": 266,
   "metadata": {},
   "outputs": [
    {
     "data": {
      "text/html": [
       "<style  type=\"text/css\" >\n",
       "</style><table id=\"T_b0549644_75eb_11ea_a974_a0999b0e91c7\" ><thead>    <tr>        <th class=\"blank level0\" ></th>        <th class=\"col_heading level0 col0\" >Purchase Count</th>        <th class=\"col_heading level0 col1\" >Average Purchase Price</th>        <th class=\"col_heading level0 col2\" >Total Purchase Value</th>    </tr>    <tr>        <th class=\"index_name level0\" >SN</th>        <th class=\"blank\" ></th>        <th class=\"blank\" ></th>        <th class=\"blank\" ></th>    </tr></thead><tbody>\n",
       "                <tr>\n",
       "                        <th id=\"T_b0549644_75eb_11ea_a974_a0999b0e91c7level0_row0\" class=\"row_heading level0 row0\" >Lisosia93</th>\n",
       "                        <td id=\"T_b0549644_75eb_11ea_a974_a0999b0e91c7row0_col0\" class=\"data row0 col0\" >5</td>\n",
       "                        <td id=\"T_b0549644_75eb_11ea_a974_a0999b0e91c7row0_col1\" class=\"data row0 col1\" >$3.79</td>\n",
       "                        <td id=\"T_b0549644_75eb_11ea_a974_a0999b0e91c7row0_col2\" class=\"data row0 col2\" >18.96</td>\n",
       "            </tr>\n",
       "            <tr>\n",
       "                        <th id=\"T_b0549644_75eb_11ea_a974_a0999b0e91c7level0_row1\" class=\"row_heading level0 row1\" >Iral74</th>\n",
       "                        <td id=\"T_b0549644_75eb_11ea_a974_a0999b0e91c7row1_col0\" class=\"data row1 col0\" >4</td>\n",
       "                        <td id=\"T_b0549644_75eb_11ea_a974_a0999b0e91c7row1_col1\" class=\"data row1 col1\" >$3.40</td>\n",
       "                        <td id=\"T_b0549644_75eb_11ea_a974_a0999b0e91c7row1_col2\" class=\"data row1 col2\" >13.62</td>\n",
       "            </tr>\n",
       "            <tr>\n",
       "                        <th id=\"T_b0549644_75eb_11ea_a974_a0999b0e91c7level0_row2\" class=\"row_heading level0 row2\" >Idastidru52</th>\n",
       "                        <td id=\"T_b0549644_75eb_11ea_a974_a0999b0e91c7row2_col0\" class=\"data row2 col0\" >4</td>\n",
       "                        <td id=\"T_b0549644_75eb_11ea_a974_a0999b0e91c7row2_col1\" class=\"data row2 col1\" >$3.86</td>\n",
       "                        <td id=\"T_b0549644_75eb_11ea_a974_a0999b0e91c7row2_col2\" class=\"data row2 col2\" >15.45</td>\n",
       "            </tr>\n",
       "            <tr>\n",
       "                        <th id=\"T_b0549644_75eb_11ea_a974_a0999b0e91c7level0_row3\" class=\"row_heading level0 row3\" >Asur53</th>\n",
       "                        <td id=\"T_b0549644_75eb_11ea_a974_a0999b0e91c7row3_col0\" class=\"data row3 col0\" >3</td>\n",
       "                        <td id=\"T_b0549644_75eb_11ea_a974_a0999b0e91c7row3_col1\" class=\"data row3 col1\" >$2.48</td>\n",
       "                        <td id=\"T_b0549644_75eb_11ea_a974_a0999b0e91c7row3_col2\" class=\"data row3 col2\" >7.44</td>\n",
       "            </tr>\n",
       "            <tr>\n",
       "                        <th id=\"T_b0549644_75eb_11ea_a974_a0999b0e91c7level0_row4\" class=\"row_heading level0 row4\" >Inguron55</th>\n",
       "                        <td id=\"T_b0549644_75eb_11ea_a974_a0999b0e91c7row4_col0\" class=\"data row4 col0\" >3</td>\n",
       "                        <td id=\"T_b0549644_75eb_11ea_a974_a0999b0e91c7row4_col1\" class=\"data row4 col1\" >$3.70</td>\n",
       "                        <td id=\"T_b0549644_75eb_11ea_a974_a0999b0e91c7row4_col2\" class=\"data row4 col2\" >11.11</td>\n",
       "            </tr>\n",
       "    </tbody></table>"
      ],
      "text/plain": [
       "<pandas.io.formats.style.Styler at 0x11c7818d0>"
      ]
     },
     "execution_count": 266,
     "metadata": {},
     "output_type": "execute_result"
    }
   ],
   "source": [
    "# Top senders\n",
    "\n",
    "top_purchases_df = purchase_data.groupby(\"SN\")[\"Item Name\"]\n",
    "top_purchases_df= top_purchases_df.size()\n",
    "\n",
    "#Average Purchase Price\n",
    "top_average_price = purchase_data.groupby(\"SN\")[\"Price\"].mean()\n",
    "\n",
    "#Total Purchase Value\n",
    "top_purchase_price = purchase_data.groupby(\"SN\")[\"Price\"].sum()\n",
    "\n",
    "\n",
    "\n",
    "#avg_total_per_person\n",
    "summary_gender_df = pd.DataFrame({\"Purchase Count\": top_purchases_df, \"Average Purchase Price\": top_average_price,\"Total Purchase Value\": top_purchase_price})\n",
    "summary_gender_df[\"Average Purchase Price\"] = summary_gender_df[\"Average Purchase Price\"].map(\"${:,.2f}\".format)\n",
    "#summary_gender_df[\"Total Purchase Value\"] = summary_gender_df[\"Total Purchase Value\"].map(\"${:,.2f}\".format)\n",
    "summary_gender = summary_gender_df.sort_values('Purchase Count',ascending = False)\n",
    "summary_gender.head(5).style"
   ]
  },
  {
   "cell_type": "markdown",
   "metadata": {},
   "source": [
    "## Most Popular Items"
   ]
  },
  {
   "cell_type": "markdown",
   "metadata": {},
   "source": [
    "* Retrieve the Item ID, Item Name, and Item Price columns\n",
    "\n",
    "\n",
    "* Group by Item ID and Item Name. Perform calculations to obtain purchase count, item price, and total purchase value\n",
    "\n",
    "\n",
    "* Create a summary data frame to hold the results\n",
    "\n",
    "\n",
    "* Sort the purchase count column in descending order\n",
    "\n",
    "\n",
    "* Optional: give the displayed data cleaner formatting\n",
    "\n",
    "\n",
    "* Display a preview of the summary data frame\n",
    "\n"
   ]
  },
  {
   "cell_type": "code",
   "execution_count": 287,
   "metadata": {},
   "outputs": [
    {
     "data": {
      "text/html": [
       "<style  type=\"text/css\" >\n",
       "</style><table id=\"T_33f594c0_75f7_11ea_a974_a0999b0e91c7\" ><thead>    <tr>        <th class=\"blank level0\" ></th>        <th class=\"col_heading level0 col0\" >Purchase Count</th>        <th class=\"col_heading level0 col1\" >Average Purchase Price</th>        <th class=\"col_heading level0 col2\" >Total Purchase Value</th>    </tr></thead><tbody>\n",
       "                <tr>\n",
       "                        <th id=\"T_33f594c0_75f7_11ea_a974_a0999b0e91c7level0_row0\" class=\"row_heading level0 row0\" >Final Critic</th>\n",
       "                        <td id=\"T_33f594c0_75f7_11ea_a974_a0999b0e91c7row0_col0\" class=\"data row0 col0\" >13</td>\n",
       "                        <td id=\"T_33f594c0_75f7_11ea_a974_a0999b0e91c7row0_col1\" class=\"data row0 col1\" >$4.61</td>\n",
       "                        <td id=\"T_33f594c0_75f7_11ea_a974_a0999b0e91c7row0_col2\" class=\"data row0 col2\" >$59.99</td>\n",
       "            </tr>\n",
       "            <tr>\n",
       "                        <th id=\"T_33f594c0_75f7_11ea_a974_a0999b0e91c7level0_row1\" class=\"row_heading level0 row1\" >Oathbreaker, Last Hope of the Breaking Storm</th>\n",
       "                        <td id=\"T_33f594c0_75f7_11ea_a974_a0999b0e91c7row1_col0\" class=\"data row1 col0\" >12</td>\n",
       "                        <td id=\"T_33f594c0_75f7_11ea_a974_a0999b0e91c7row1_col1\" class=\"data row1 col1\" >$4.23</td>\n",
       "                        <td id=\"T_33f594c0_75f7_11ea_a974_a0999b0e91c7row1_col2\" class=\"data row1 col2\" >$50.76</td>\n",
       "            </tr>\n",
       "            <tr>\n",
       "                        <th id=\"T_33f594c0_75f7_11ea_a974_a0999b0e91c7level0_row2\" class=\"row_heading level0 row2\" >Persuasion</th>\n",
       "                        <td id=\"T_33f594c0_75f7_11ea_a974_a0999b0e91c7row2_col0\" class=\"data row2 col0\" >9</td>\n",
       "                        <td id=\"T_33f594c0_75f7_11ea_a974_a0999b0e91c7row2_col1\" class=\"data row2 col1\" >$3.22</td>\n",
       "                        <td id=\"T_33f594c0_75f7_11ea_a974_a0999b0e91c7row2_col2\" class=\"data row2 col2\" >$28.99</td>\n",
       "            </tr>\n",
       "            <tr>\n",
       "                        <th id=\"T_33f594c0_75f7_11ea_a974_a0999b0e91c7level0_row3\" class=\"row_heading level0 row3\" >Nirvana</th>\n",
       "                        <td id=\"T_33f594c0_75f7_11ea_a974_a0999b0e91c7row3_col0\" class=\"data row3 col0\" >9</td>\n",
       "                        <td id=\"T_33f594c0_75f7_11ea_a974_a0999b0e91c7row3_col1\" class=\"data row3 col1\" >$4.90</td>\n",
       "                        <td id=\"T_33f594c0_75f7_11ea_a974_a0999b0e91c7row3_col2\" class=\"data row3 col2\" >$44.10</td>\n",
       "            </tr>\n",
       "            <tr>\n",
       "                        <th id=\"T_33f594c0_75f7_11ea_a974_a0999b0e91c7level0_row4\" class=\"row_heading level0 row4\" >Extraction, Quickblade Of Trembling Hands</th>\n",
       "                        <td id=\"T_33f594c0_75f7_11ea_a974_a0999b0e91c7row4_col0\" class=\"data row4 col0\" >9</td>\n",
       "                        <td id=\"T_33f594c0_75f7_11ea_a974_a0999b0e91c7row4_col1\" class=\"data row4 col1\" >$3.53</td>\n",
       "                        <td id=\"T_33f594c0_75f7_11ea_a974_a0999b0e91c7row4_col2\" class=\"data row4 col2\" >$31.77</td>\n",
       "            </tr>\n",
       "    </tbody></table>"
      ],
      "text/plain": [
       "<pandas.io.formats.style.Styler at 0x11b0e9350>"
      ]
     },
     "execution_count": 287,
     "metadata": {},
     "output_type": "execute_result"
    }
   ],
   "source": [
    "# Most popular items\n",
    "\n",
    "# Purchase count\n",
    "Most_purchases_df = purchase_data.groupby(\"Item Name\")[\"Age\"]\n",
    "Most_purchases_df.columns = [\"Item ID\"]\n",
    "most_purchase_df = Most_purchases_df.count()\n",
    "most_popular_df = most_purchase_df.sort_values(ascending = False)\n",
    "#print(most_popular_df)\n",
    "\n",
    "#Average Purchase Price\n",
    "Most_average_price = purchase_data.groupby(\"Item Name\")[\"Price\"].mean()\n",
    "\n",
    "#Total Purchase Value\n",
    "Most_purchase_price = purchase_data.groupby(\"Item Name\")[\"Price\"].sum()\n",
    "\n",
    "\n",
    "\n",
    "#avg_total_per_person\n",
    "summary_most_df = pd.DataFrame({\"Purchase Count\": most_popular_df,\"Average Purchase Price\": Most_average_price,\"Total Purchase Value\": Most_purchase_price})\n",
    "summary_most_df[\"Average Purchase Price\"] = summary_most_df[\"Average Purchase Price\"].map(\"${:,.2f}\".format)\n",
    "summary_most_df[\"Total Purchase Value\"] = summary_most_df[\"Total Purchase Value\"].map(\"${:,.2f}\".format)\n",
    "summary_most = summary_most_df.sort_values('Purchase Count',ascending = False)\n",
    "#summary_most_item = summary_most.set_index(purchase_data([\"Item ID\"]), append = True)\n",
    "summary_most.head(5).style"
   ]
  },
  {
   "cell_type": "code",
   "execution_count": null,
   "metadata": {},
   "outputs": [],
   "source": []
  },
  {
   "cell_type": "markdown",
   "metadata": {},
   "source": [
    "## Most Profitable Items"
   ]
  },
  {
   "cell_type": "markdown",
   "metadata": {},
   "source": [
    "* Sort the above table by total purchase value in descending order\n",
    "\n",
    "\n",
    "* Optional: give the displayed data cleaner formatting\n",
    "\n",
    "\n",
    "* Display a preview of the data frame\n",
    "\n"
   ]
  },
  {
   "cell_type": "code",
   "execution_count": 288,
   "metadata": {
    "scrolled": true
   },
   "outputs": [
    {
     "data": {
      "text/html": [
       "<style  type=\"text/css\" >\n",
       "</style><table id=\"T_44615362_75f7_11ea_a974_a0999b0e91c7\" ><thead>    <tr>        <th class=\"blank level0\" ></th>        <th class=\"col_heading level0 col0\" >Purchase Count</th>        <th class=\"col_heading level0 col1\" >Average Purchase Price</th>        <th class=\"col_heading level0 col2\" >Total Purchase Value</th>    </tr></thead><tbody>\n",
       "                <tr>\n",
       "                        <th id=\"T_44615362_75f7_11ea_a974_a0999b0e91c7level0_row0\" class=\"row_heading level0 row0\" >Final Critic</th>\n",
       "                        <td id=\"T_44615362_75f7_11ea_a974_a0999b0e91c7row0_col0\" class=\"data row0 col0\" >13</td>\n",
       "                        <td id=\"T_44615362_75f7_11ea_a974_a0999b0e91c7row0_col1\" class=\"data row0 col1\" >$4.61</td>\n",
       "                        <td id=\"T_44615362_75f7_11ea_a974_a0999b0e91c7row0_col2\" class=\"data row0 col2\" >$59.99</td>\n",
       "            </tr>\n",
       "            <tr>\n",
       "                        <th id=\"T_44615362_75f7_11ea_a974_a0999b0e91c7level0_row1\" class=\"row_heading level0 row1\" >Oathbreaker, Last Hope of the Breaking Storm</th>\n",
       "                        <td id=\"T_44615362_75f7_11ea_a974_a0999b0e91c7row1_col0\" class=\"data row1 col0\" >12</td>\n",
       "                        <td id=\"T_44615362_75f7_11ea_a974_a0999b0e91c7row1_col1\" class=\"data row1 col1\" >$4.23</td>\n",
       "                        <td id=\"T_44615362_75f7_11ea_a974_a0999b0e91c7row1_col2\" class=\"data row1 col2\" >$50.76</td>\n",
       "            </tr>\n",
       "            <tr>\n",
       "                        <th id=\"T_44615362_75f7_11ea_a974_a0999b0e91c7level0_row2\" class=\"row_heading level0 row2\" >Persuasion</th>\n",
       "                        <td id=\"T_44615362_75f7_11ea_a974_a0999b0e91c7row2_col0\" class=\"data row2 col0\" >9</td>\n",
       "                        <td id=\"T_44615362_75f7_11ea_a974_a0999b0e91c7row2_col1\" class=\"data row2 col1\" >$3.22</td>\n",
       "                        <td id=\"T_44615362_75f7_11ea_a974_a0999b0e91c7row2_col2\" class=\"data row2 col2\" >$28.99</td>\n",
       "            </tr>\n",
       "            <tr>\n",
       "                        <th id=\"T_44615362_75f7_11ea_a974_a0999b0e91c7level0_row3\" class=\"row_heading level0 row3\" >Nirvana</th>\n",
       "                        <td id=\"T_44615362_75f7_11ea_a974_a0999b0e91c7row3_col0\" class=\"data row3 col0\" >9</td>\n",
       "                        <td id=\"T_44615362_75f7_11ea_a974_a0999b0e91c7row3_col1\" class=\"data row3 col1\" >$4.90</td>\n",
       "                        <td id=\"T_44615362_75f7_11ea_a974_a0999b0e91c7row3_col2\" class=\"data row3 col2\" >$44.10</td>\n",
       "            </tr>\n",
       "            <tr>\n",
       "                        <th id=\"T_44615362_75f7_11ea_a974_a0999b0e91c7level0_row4\" class=\"row_heading level0 row4\" >Extraction, Quickblade Of Trembling Hands</th>\n",
       "                        <td id=\"T_44615362_75f7_11ea_a974_a0999b0e91c7row4_col0\" class=\"data row4 col0\" >9</td>\n",
       "                        <td id=\"T_44615362_75f7_11ea_a974_a0999b0e91c7row4_col1\" class=\"data row4 col1\" >$3.53</td>\n",
       "                        <td id=\"T_44615362_75f7_11ea_a974_a0999b0e91c7row4_col2\" class=\"data row4 col2\" >$31.77</td>\n",
       "            </tr>\n",
       "    </tbody></table>"
      ],
      "text/plain": [
       "<pandas.io.formats.style.Styler at 0x11b9fea50>"
      ]
     },
     "execution_count": 288,
     "metadata": {},
     "output_type": "execute_result"
    }
   ],
   "source": [
    "# Most profitable items\n",
    "\n",
    "# Purchase count\n",
    "Most_purchases_df = purchase_data.groupby(\"Item Name\")[\"Age\"]\n",
    "Most_purchases_df.columns = [\"Item ID\"]\n",
    "most_purchase_df = Most_purchases_df.count()\n",
    "most_popular_df = most_purchase_df.sort_values(ascending = False)\n",
    "#print(most_popular_df)\n",
    "\n",
    "#Average Purchase Price\n",
    "Most_average_price = purchase_data.groupby(\"Item Name\")[\"Price\"].mean()\n",
    "\n",
    "#Total Purchase Value\n",
    "Most_purchase_price = purchase_data.groupby(\"Item Name\")[\"Price\"].sum()\n",
    "\n",
    "\n",
    "\n",
    "#avg_total_per_person\n",
    "summary_most_df = pd.DataFrame({\"Purchase Count\": most_popular_df,\"Average Purchase Price\": Most_average_price,\"Total Purchase Value\": Most_purchase_price})\n",
    "summary_most_df[\"Average Purchase Price\"] = summary_most_df[\"Average Purchase Price\"].map(\"${:,.2f}\".format)\n",
    "summary_most_df[\"Total Purchase Value\"] = summary_most_df[\"Total Purchase Value\"].map(\"${:,.2f}\".format)\n",
    "summary_most = summary_most_df.sort_values('Purchase Count',ascending = False)\n",
    "#summary_most_item = summary_most.set_index(purchase_data([\"Item ID\"]), append = True)\n",
    "summary_most.head(5).style"
   ]
  },
  {
   "cell_type": "code",
   "execution_count": null,
   "metadata": {},
   "outputs": [],
   "source": []
  }
 ],
 "metadata": {
  "anaconda-cloud": {},
  "kernel_info": {
   "name": "python3"
  },
  "kernelspec": {
   "display_name": "Python 3",
   "language": "python",
   "name": "python3"
  },
  "language_info": {
   "codemirror_mode": {
    "name": "ipython",
    "version": 3
   },
   "file_extension": ".py",
   "mimetype": "text/x-python",
   "name": "python",
   "nbconvert_exporter": "python",
   "pygments_lexer": "ipython3",
   "version": "3.7.4"
  },
  "latex_envs": {
   "LaTeX_envs_menu_present": true,
   "autoclose": false,
   "autocomplete": true,
   "bibliofile": "biblio.bib",
   "cite_by": "apalike",
   "current_citInitial": 1,
   "eqLabelWithNumbers": true,
   "eqNumInitial": 1,
   "hotkeys": {
    "equation": "Ctrl-E",
    "itemize": "Ctrl-I"
   },
   "labels_anchors": false,
   "latex_user_defs": false,
   "report_style_numbering": false,
   "user_envs_cfg": false
  },
  "nteract": {
   "version": "0.2.0"
  }
 },
 "nbformat": 4,
 "nbformat_minor": 2
}
