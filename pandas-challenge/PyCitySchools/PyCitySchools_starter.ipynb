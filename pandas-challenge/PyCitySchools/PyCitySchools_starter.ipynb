{
 "cells": [
  {
   "cell_type": "markdown",
   "metadata": {},
   "source": [
    "### Note\n",
    "* Instructions have been included for each segment. You do not have to follow them exactly, but they are included to help you think through the steps."
   ]
  },
  {
   "cell_type": "code",
   "execution_count": 2,
   "metadata": {},
   "outputs": [
    {
     "data": {
      "text/html": [
       "<div>\n",
       "<style scoped>\n",
       "    .dataframe tbody tr th:only-of-type {\n",
       "        vertical-align: middle;\n",
       "    }\n",
       "\n",
       "    .dataframe tbody tr th {\n",
       "        vertical-align: top;\n",
       "    }\n",
       "\n",
       "    .dataframe thead th {\n",
       "        text-align: right;\n",
       "    }\n",
       "</style>\n",
       "<table border=\"1\" class=\"dataframe\">\n",
       "  <thead>\n",
       "    <tr style=\"text-align: right;\">\n",
       "      <th></th>\n",
       "      <th>Student ID</th>\n",
       "      <th>student_name</th>\n",
       "      <th>gender</th>\n",
       "      <th>grade</th>\n",
       "      <th>school_name</th>\n",
       "      <th>reading_score</th>\n",
       "      <th>math_score</th>\n",
       "      <th>School ID</th>\n",
       "      <th>type</th>\n",
       "      <th>size</th>\n",
       "      <th>budget</th>\n",
       "    </tr>\n",
       "  </thead>\n",
       "  <tbody>\n",
       "    <tr>\n",
       "      <td>0</td>\n",
       "      <td>0</td>\n",
       "      <td>Paul Bradley</td>\n",
       "      <td>M</td>\n",
       "      <td>9th</td>\n",
       "      <td>Huang High School</td>\n",
       "      <td>66</td>\n",
       "      <td>79</td>\n",
       "      <td>0</td>\n",
       "      <td>District</td>\n",
       "      <td>2917</td>\n",
       "      <td>1910635</td>\n",
       "    </tr>\n",
       "    <tr>\n",
       "      <td>1</td>\n",
       "      <td>1</td>\n",
       "      <td>Victor Smith</td>\n",
       "      <td>M</td>\n",
       "      <td>12th</td>\n",
       "      <td>Huang High School</td>\n",
       "      <td>94</td>\n",
       "      <td>61</td>\n",
       "      <td>0</td>\n",
       "      <td>District</td>\n",
       "      <td>2917</td>\n",
       "      <td>1910635</td>\n",
       "    </tr>\n",
       "    <tr>\n",
       "      <td>2</td>\n",
       "      <td>2</td>\n",
       "      <td>Kevin Rodriguez</td>\n",
       "      <td>M</td>\n",
       "      <td>12th</td>\n",
       "      <td>Huang High School</td>\n",
       "      <td>90</td>\n",
       "      <td>60</td>\n",
       "      <td>0</td>\n",
       "      <td>District</td>\n",
       "      <td>2917</td>\n",
       "      <td>1910635</td>\n",
       "    </tr>\n",
       "    <tr>\n",
       "      <td>3</td>\n",
       "      <td>3</td>\n",
       "      <td>Dr. Richard Scott</td>\n",
       "      <td>M</td>\n",
       "      <td>12th</td>\n",
       "      <td>Huang High School</td>\n",
       "      <td>67</td>\n",
       "      <td>58</td>\n",
       "      <td>0</td>\n",
       "      <td>District</td>\n",
       "      <td>2917</td>\n",
       "      <td>1910635</td>\n",
       "    </tr>\n",
       "    <tr>\n",
       "      <td>4</td>\n",
       "      <td>4</td>\n",
       "      <td>Bonnie Ray</td>\n",
       "      <td>F</td>\n",
       "      <td>9th</td>\n",
       "      <td>Huang High School</td>\n",
       "      <td>97</td>\n",
       "      <td>84</td>\n",
       "      <td>0</td>\n",
       "      <td>District</td>\n",
       "      <td>2917</td>\n",
       "      <td>1910635</td>\n",
       "    </tr>\n",
       "  </tbody>\n",
       "</table>\n",
       "</div>"
      ],
      "text/plain": [
       "   Student ID       student_name gender grade        school_name  \\\n",
       "0           0       Paul Bradley      M   9th  Huang High School   \n",
       "1           1       Victor Smith      M  12th  Huang High School   \n",
       "2           2    Kevin Rodriguez      M  12th  Huang High School   \n",
       "3           3  Dr. Richard Scott      M  12th  Huang High School   \n",
       "4           4         Bonnie Ray      F   9th  Huang High School   \n",
       "\n",
       "   reading_score  math_score  School ID      type  size   budget  \n",
       "0             66          79          0  District  2917  1910635  \n",
       "1             94          61          0  District  2917  1910635  \n",
       "2             90          60          0  District  2917  1910635  \n",
       "3             67          58          0  District  2917  1910635  \n",
       "4             97          84          0  District  2917  1910635  "
      ]
     },
     "execution_count": 2,
     "metadata": {},
     "output_type": "execute_result"
    }
   ],
   "source": [
    "# Dependencies and Setup\n",
    "import pandas as pd\n",
    "\n",
    "# File to Load (Remember to Change These)\n",
    "school_data_to_load = \"Resources/schools_complete.csv\"\n",
    "student_data_to_load = \"Resources/students_complete.csv\"\n",
    "\n",
    "# Read School and Student Data File and store into Pandas DataFrames\n",
    "school_data = pd.read_csv(school_data_to_load)\n",
    "student_data = pd.read_csv(student_data_to_load)\n",
    "\n",
    "# Combine the data into a single dataset.  \n",
    "school_data_complete = pd.merge(student_data, school_data, how=\"left\", on=[\"school_name\", \"school_name\"])\n",
    "school_data_complete.head()"
   ]
  },
  {
   "cell_type": "markdown",
   "metadata": {},
   "source": [
    "## District Summary\n",
    "\n",
    "* Calculate the total number of schools\n",
    "\n",
    "* Calculate the total number of students\n",
    "\n",
    "* Calculate the total budget\n",
    "\n",
    "* Calculate the average math score \n",
    "\n",
    "* Calculate the average reading score\n",
    "\n",
    "* Calculate the percentage of students with a passing math score (70 or greater)\n",
    "\n",
    "* Calculate the percentage of students with a passing reading score (70 or greater)\n",
    "\n",
    "* Calculate the percentage of students who passed math **and** reading (% Overall Passing)\n",
    "\n",
    "* Create a dataframe to hold the above results\n",
    "\n",
    "* Optional: give the displayed data cleaner formatting"
   ]
  },
  {
   "cell_type": "code",
   "execution_count": 3,
   "metadata": {},
   "outputs": [
    {
     "data": {
      "text/plain": [
       "15"
      ]
     },
     "execution_count": 3,
     "metadata": {},
     "output_type": "execute_result"
    }
   ],
   "source": [
    "# Total number of schools \n",
    "total_schools = school_data_complete.school_name.unique()\n",
    "total_schools_df = len(total_schools)\n",
    "total_schools_df"
   ]
  },
  {
   "cell_type": "code",
   "execution_count": 4,
   "metadata": {},
   "outputs": [
    {
     "data": {
      "text/plain": [
       "39170"
      ]
     },
     "execution_count": 4,
     "metadata": {},
     "output_type": "execute_result"
    }
   ],
   "source": [
    "# total number os students\n",
    "\n",
    "total_students = school_data_complete.student_name.count()\n",
    "total_students"
   ]
  },
  {
   "cell_type": "code",
   "execution_count": 5,
   "metadata": {},
   "outputs": [
    {
     "data": {
      "text/plain": [
       "82932329558"
      ]
     },
     "execution_count": 5,
     "metadata": {},
     "output_type": "execute_result"
    }
   ],
   "source": [
    "# Total budget\n",
    "total_budget = school_data_complete.budget.sum()\n",
    "total_budget"
   ]
  },
  {
   "cell_type": "code",
   "execution_count": 6,
   "metadata": {},
   "outputs": [
    {
     "data": {
      "text/plain": [
       "78.98537145774827"
      ]
     },
     "execution_count": 6,
     "metadata": {},
     "output_type": "execute_result"
    }
   ],
   "source": [
    "# Average math score \n",
    "\n",
    "avg_math_score = school_data_complete.math_score.mean()\n",
    "avg_math_score"
   ]
  },
  {
   "cell_type": "code",
   "execution_count": 7,
   "metadata": {},
   "outputs": [
    {
     "data": {
      "text/plain": [
       "81.87784018381414"
      ]
     },
     "execution_count": 7,
     "metadata": {},
     "output_type": "execute_result"
    }
   ],
   "source": [
    "# average reading score\n",
    "avg_reading_score = school_data_complete.reading_score.mean()\n",
    "avg_reading_score"
   ]
  },
  {
   "cell_type": "code",
   "execution_count": 8,
   "metadata": {},
   "outputs": [
    {
     "data": {
      "text/plain": [
       "72.39213683941792"
      ]
     },
     "execution_count": 8,
     "metadata": {},
     "output_type": "execute_result"
    }
   ],
   "source": [
    "# percentage calculations\n",
    "Percetange_math_70 = school_data_complete.loc[school_data_complete['math_score'] > 70, :]['student_name'].count()\n",
    "Percetange_math_df = (Percetange_math_70/total_students)*100\n",
    "Percetange_math_df"
   ]
  },
  {
   "cell_type": "code",
   "execution_count": 9,
   "metadata": {},
   "outputs": [
    {
     "data": {
      "text/plain": [
       "82.97166198621395"
      ]
     },
     "execution_count": 9,
     "metadata": {},
     "output_type": "execute_result"
    }
   ],
   "source": [
    "# percentage calculations\n",
    "Percetange_reading_70 = school_data_complete.loc[school_data_complete['reading_score'] > 70, :]['student_name'].count()\n",
    "Percetange_reading_df = (Percetange_reading_70/total_students)*100\n",
    "Percetange_reading_df"
   ]
  },
  {
   "cell_type": "code",
   "execution_count": 10,
   "metadata": {},
   "outputs": [],
   "source": [
    "# Overall passing rate\n",
    "\n",
    "Overall_passing_rate = (Percetange_math_df+Percetange_reading_df)/2"
   ]
  },
  {
   "cell_type": "code",
   "execution_count": 11,
   "metadata": {},
   "outputs": [
    {
     "data": {
      "text/html": [
       "<style  type=\"text/css\" >\n",
       "</style><table id=\"T_2d311588_77d7_11ea_85c2_a0999b0e91c7\" ><thead>    <tr>        <th class=\"blank level0\" ></th>        <th class=\"col_heading level0 col0\" >Total School</th>        <th class=\"col_heading level0 col1\" >Total Students</th>        <th class=\"col_heading level0 col2\" >Total Budget</th>        <th class=\"col_heading level0 col3\" >Average Math Score</th>        <th class=\"col_heading level0 col4\" >Average Reading Score</th>        <th class=\"col_heading level0 col5\" >% Passing Math</th>        <th class=\"col_heading level0 col6\" >% Passing Reading</th>        <th class=\"col_heading level0 col7\" >% Overall Passing</th>    </tr></thead><tbody>\n",
       "                <tr>\n",
       "                        <th id=\"T_2d311588_77d7_11ea_85c2_a0999b0e91c7level0_row0\" class=\"row_heading level0 row0\" >0</th>\n",
       "                        <td id=\"T_2d311588_77d7_11ea_85c2_a0999b0e91c7row0_col0\" class=\"data row0 col0\" >15</td>\n",
       "                        <td id=\"T_2d311588_77d7_11ea_85c2_a0999b0e91c7row0_col1\" class=\"data row0 col1\" >39170</td>\n",
       "                        <td id=\"T_2d311588_77d7_11ea_85c2_a0999b0e91c7row0_col2\" class=\"data row0 col2\" >82932329558</td>\n",
       "                        <td id=\"T_2d311588_77d7_11ea_85c2_a0999b0e91c7row0_col3\" class=\"data row0 col3\" >78.9854</td>\n",
       "                        <td id=\"T_2d311588_77d7_11ea_85c2_a0999b0e91c7row0_col4\" class=\"data row0 col4\" >81.8778</td>\n",
       "                        <td id=\"T_2d311588_77d7_11ea_85c2_a0999b0e91c7row0_col5\" class=\"data row0 col5\" >72.3921</td>\n",
       "                        <td id=\"T_2d311588_77d7_11ea_85c2_a0999b0e91c7row0_col6\" class=\"data row0 col6\" >82.9717</td>\n",
       "                        <td id=\"T_2d311588_77d7_11ea_85c2_a0999b0e91c7row0_col7\" class=\"data row0 col7\" >77.6819</td>\n",
       "            </tr>\n",
       "    </tbody></table>"
      ],
      "text/plain": [
       "<pandas.io.formats.style.Styler at 0x121d1b150>"
      ]
     },
     "execution_count": 11,
     "metadata": {},
     "output_type": "execute_result"
    }
   ],
   "source": [
    "district_summary = pd.DataFrame({\"Total School\": total_schools_df,\"Total Students\": total_students,\"Total Budget\": total_budget,\"Average Math Score\": avg_math_score, \"Average Reading Score\":avg_reading_score, \"% Passing Math\":Percetange_math_df, \"% Passing Reading\":Percetange_reading_df,\"% Overall Passing\": Overall_passing_rate},index = [0])\n",
    "district_summary.style"
   ]
  },
  {
   "cell_type": "markdown",
   "metadata": {},
   "source": [
    "## School Summary"
   ]
  },
  {
   "cell_type": "markdown",
   "metadata": {},
   "source": [
    "* Create an overview table that summarizes key metrics about each school, including:\n",
    "  * School Name\n",
    "  * School Type\n",
    "  * Total Students\n",
    "  * Total School Budget\n",
    "  * Per Student Budget\n",
    "  * Average Math Score\n",
    "  * Average Reading Score\n",
    "  * % Passing Math\n",
    "  * % Passing Reading\n",
    "  * % Overall Passing (The percentage of students that passed math **and** reading.)\n",
    "  \n",
    "* Create a dataframe to hold the above results"
   ]
  },
  {
   "cell_type": "code",
   "execution_count": 12,
   "metadata": {},
   "outputs": [],
   "source": [
    "school_type = school_data_complete.groupby(by =\"school_name\")\n",
    "#school_type.count()\n",
    "#school_type.describe()"
   ]
  },
  {
   "cell_type": "code",
   "execution_count": 13,
   "metadata": {},
   "outputs": [
    {
     "data": {
      "text/plain": [
       "school_name\n",
       "Bailey High School       4976\n",
       "Cabrera High School      1858\n",
       "Figueroa High School     2949\n",
       "Ford High School         2739\n",
       "Griffin High School      1468\n",
       "Hernandez High School    4635\n",
       "Holden High School        427\n",
       "Huang High School        2917\n",
       "Johnson High School      4761\n",
       "Pena High School          962\n",
       "Rodriguez High School    3999\n",
       "Shelton High School      1761\n",
       "Thomas High School       1635\n",
       "Wilson High School       2283\n",
       "Wright High School       1800\n",
       "Name: student_name, dtype: int64"
      ]
     },
     "execution_count": 13,
     "metadata": {},
     "output_type": "execute_result"
    }
   ],
   "source": [
    "total_students_perschool = school_data_complete.groupby(by =\"school_name\")[\"student_name\"]\n",
    "total_students_perschool_df = total_students_perschool.size()\n",
    "total_students_perschool_df"
   ]
  },
  {
   "cell_type": "code",
   "execution_count": 14,
   "metadata": {},
   "outputs": [
    {
     "data": {
      "text/plain": [
       "school_name\n",
       "Bailey High School       3124928\n",
       "Cabrera High School      1081356\n",
       "Figueroa High School     1884411\n",
       "Ford High School         1763916\n",
       "Griffin High School       917500\n",
       "Hernandez High School    3022020\n",
       "Holden High School        248087\n",
       "Huang High School        1910635\n",
       "Johnson High School      3094650\n",
       "Pena High School          585858\n",
       "Rodriguez High School    2547363\n",
       "Shelton High School      1056600\n",
       "Thomas High School       1043130\n",
       "Wilson High School       1319574\n",
       "Wright High School       1049400\n",
       "Name: budget, dtype: int64"
      ]
     },
     "execution_count": 14,
     "metadata": {},
     "output_type": "execute_result"
    }
   ],
   "source": [
    "total_budget_perschool = school_data_complete.groupby(by =\"school_name\")[\"budget\"]\n",
    "total_budget_perschool_df = total_budget_perschool.mean()\n",
    "total_budget_perschool_df"
   ]
  },
  {
   "cell_type": "code",
   "execution_count": 15,
   "metadata": {},
   "outputs": [
    {
     "data": {
      "text/plain": [
       "school_name\n",
       "Bailey High School       628.0\n",
       "Cabrera High School      582.0\n",
       "Figueroa High School     639.0\n",
       "Ford High School         644.0\n",
       "Griffin High School      625.0\n",
       "Hernandez High School    652.0\n",
       "Holden High School       581.0\n",
       "Huang High School        655.0\n",
       "Johnson High School      650.0\n",
       "Pena High School         609.0\n",
       "Rodriguez High School    637.0\n",
       "Shelton High School      600.0\n",
       "Thomas High School       638.0\n",
       "Wilson High School       578.0\n",
       "Wright High School       583.0\n",
       "dtype: float64"
      ]
     },
     "execution_count": 15,
     "metadata": {},
     "output_type": "execute_result"
    }
   ],
   "source": [
    "\n",
    "# Use groupby by school_name\n",
    "\n",
    "per_school_group = school_data_complete.groupby([\"school_name\"]).mean()\n",
    "per_student_budget_df = per_school_group[\"budget\"]/per_school_group[\"size\"]\n",
    "per_student_budget_df"
   ]
  },
  {
   "cell_type": "code",
   "execution_count": 16,
   "metadata": {},
   "outputs": [
    {
     "data": {
      "text/plain": [
       "school_name\n",
       "Bailey High School       77.048432\n",
       "Cabrera High School      83.061895\n",
       "Figueroa High School     76.711767\n",
       "Ford High School         77.102592\n",
       "Griffin High School      83.351499\n",
       "Hernandez High School    77.289752\n",
       "Holden High School       83.803279\n",
       "Huang High School        76.629414\n",
       "Johnson High School      77.072464\n",
       "Pena High School         83.839917\n",
       "Rodriguez High School    76.842711\n",
       "Shelton High School      83.359455\n",
       "Thomas High School       83.418349\n",
       "Wilson High School       83.274201\n",
       "Wright High School       83.682222\n",
       "Name: math_score, dtype: float64"
      ]
     },
     "execution_count": 16,
     "metadata": {},
     "output_type": "execute_result"
    }
   ],
   "source": [
    "#Average math score\n",
    "\n",
    "Avg_math_score_schoolgroup = school_data_complete.groupby(by =\"school_name\")[\"math_score\"].mean()\n",
    "Avg_math_score_schoolgroup"
   ]
  },
  {
   "cell_type": "code",
   "execution_count": 17,
   "metadata": {},
   "outputs": [
    {
     "data": {
      "text/plain": [
       "school_name\n",
       "Bailey High School       81.033963\n",
       "Cabrera High School      83.975780\n",
       "Figueroa High School     81.158020\n",
       "Ford High School         80.746258\n",
       "Griffin High School      83.816757\n",
       "Hernandez High School    80.934412\n",
       "Holden High School       83.814988\n",
       "Huang High School        81.182722\n",
       "Johnson High School      80.966394\n",
       "Pena High School         84.044699\n",
       "Rodriguez High School    80.744686\n",
       "Shelton High School      83.725724\n",
       "Thomas High School       83.848930\n",
       "Wilson High School       83.989488\n",
       "Wright High School       83.955000\n",
       "Name: reading_score, dtype: float64"
      ]
     },
     "execution_count": 17,
     "metadata": {},
     "output_type": "execute_result"
    }
   ],
   "source": [
    "Avg_reading_score_schoolgroup = school_data_complete.groupby(by =\"school_name\")[\"reading_score\"].mean()\n",
    "Avg_reading_score_schoolgroup"
   ]
  },
  {
   "cell_type": "code",
   "execution_count": 25,
   "metadata": {},
   "outputs": [
    {
     "name": "stdout",
     "output_type": "stream",
     "text": [
      "school_name\n",
      "Bailey High School       66.680064\n",
      "Cabrera High School      94.133477\n",
      "Figueroa High School     65.988471\n",
      "Ford High School         68.309602\n",
      "Griffin High School      93.392371\n",
      "Hernandez High School    66.752967\n",
      "Holden High School       92.505855\n",
      "Huang High School        65.683922\n",
      "Johnson High School      66.057551\n",
      "Pena High School         94.594595\n",
      "Rodriguez High School    66.366592\n",
      "Shelton High School      93.867121\n",
      "Thomas High School       93.272171\n",
      "Wilson High School       93.867718\n",
      "Wright High School       93.333333\n",
      "dtype: float64\n",
      "school_name\n",
      "Bailey High School       81.933280\n",
      "Cabrera High School      97.039828\n",
      "Figueroa High School     80.739234\n",
      "Ford High School         79.299014\n",
      "Griffin High School      97.138965\n",
      "Hernandez High School    80.862999\n",
      "Holden High School       96.252927\n",
      "Huang High School        81.316421\n",
      "Johnson High School      81.222432\n",
      "Pena High School         95.945946\n",
      "Rodriguez High School    80.220055\n",
      "Shelton High School      95.854628\n",
      "Thomas High School       97.308869\n",
      "Wilson High School       96.539641\n",
      "Wright High School       96.611111\n",
      "dtype: float64\n",
      "school_name\n",
      "Bailey High School       74.306672\n",
      "Cabrera High School      95.586652\n",
      "Figueroa High School     73.363852\n",
      "Ford High School         73.804308\n",
      "Griffin High School      95.265668\n",
      "Hernandez High School    73.807983\n",
      "Holden High School       94.379391\n",
      "Huang High School        73.500171\n",
      "Johnson High School      73.639992\n",
      "Pena High School         95.270270\n",
      "Rodriguez High School    73.293323\n",
      "Shelton High School      94.860875\n",
      "Thomas High School       95.290520\n",
      "Wilson High School       95.203679\n",
      "Wright High School       94.972222\n",
      "dtype: float64\n"
     ]
    }
   ],
   "source": [
    "#percentage calculations\n",
    "Pass_Math_BySchool=school_data_complete.loc[school_data_complete['math_score']>=70]\n",
    "school_group_math_count = Pass_Math_BySchool.groupby(by =\"school_name\")[\"math_score\"].count()\n",
    "Percetange_math_df = (school_group_math_count/total_students_perschool_df)*100\n",
    "print(Percetange_math_df)\n",
    "\n",
    "Pass_reading_BySchool=school_data_complete.loc[school_data_complete['reading_score']>=70]\n",
    "school_group_reading_count = Pass_reading_BySchool.groupby(by =\"school_name\")[\"reading_score\"].count()\n",
    "Percetange_reading_df = (school_group_reading_count/total_students_perschool_df)*100\n",
    "print(Percetange_reading_df)\n",
    "\n",
    "Percetange_overall_df = (Percetange_math_df+Percetange_reading_df)/2\n",
    "print(Percetange_overall_df)"
   ]
  },
  {
   "cell_type": "code",
   "execution_count": 40,
   "metadata": {},
   "outputs": [
    {
     "data": {
      "text/plain": [
       "school_name\n",
       "Bailey High School       District\n",
       "Cabrera High School       Charter\n",
       "Figueroa High School     District\n",
       "Ford High School         District\n",
       "Griffin High School       Charter\n",
       "Hernandez High School    District\n",
       "Holden High School        Charter\n",
       "Huang High School        District\n",
       "Johnson High School      District\n",
       "Pena High School          Charter\n",
       "Rodriguez High School    District\n",
       "Shelton High School       Charter\n",
       "Thomas High School        Charter\n",
       "Wilson High School        Charter\n",
       "Wright High School        Charter\n",
       "Name: type, dtype: object"
      ]
     },
     "execution_count": 40,
     "metadata": {},
     "output_type": "execute_result"
    }
   ],
   "source": [
    "schoolgroup_type = school_type[\"type\"].first()\n",
    "#schoolgroup_type_df = schoolgroup_type.()\n",
    "schoolgroup_type"
   ]
  },
  {
   "cell_type": "code",
   "execution_count": 41,
   "metadata": {},
   "outputs": [
    {
     "data": {
      "text/html": [
       "<style  type=\"text/css\" >\n",
       "</style><table id=\"T_477dcbae_77da_11ea_85c2_a0999b0e91c7\" ><thead>    <tr>        <th class=\"blank level0\" ></th>        <th class=\"col_heading level0 col0\" >School Type</th>        <th class=\"col_heading level0 col1\" >Total Students</th>        <th class=\"col_heading level0 col2\" >Total School Budget</th>        <th class=\"col_heading level0 col3\" >Per Student Budget</th>        <th class=\"col_heading level0 col4\" >Average Math Score</th>        <th class=\"col_heading level0 col5\" >Average Reading Score</th>        <th class=\"col_heading level0 col6\" >% Passing Math</th>        <th class=\"col_heading level0 col7\" >% Passing Reading</th>        <th class=\"col_heading level0 col8\" >% Overall Passing</th>    </tr>    <tr>        <th class=\"index_name level0\" >school_name</th>        <th class=\"blank\" ></th>        <th class=\"blank\" ></th>        <th class=\"blank\" ></th>        <th class=\"blank\" ></th>        <th class=\"blank\" ></th>        <th class=\"blank\" ></th>        <th class=\"blank\" ></th>        <th class=\"blank\" ></th>        <th class=\"blank\" ></th>    </tr></thead><tbody>\n",
       "                <tr>\n",
       "                        <th id=\"T_477dcbae_77da_11ea_85c2_a0999b0e91c7level0_row0\" class=\"row_heading level0 row0\" >Bailey High School</th>\n",
       "                        <td id=\"T_477dcbae_77da_11ea_85c2_a0999b0e91c7row0_col0\" class=\"data row0 col0\" >District</td>\n",
       "                        <td id=\"T_477dcbae_77da_11ea_85c2_a0999b0e91c7row0_col1\" class=\"data row0 col1\" >4976</td>\n",
       "                        <td id=\"T_477dcbae_77da_11ea_85c2_a0999b0e91c7row0_col2\" class=\"data row0 col2\" >$3,124,928.00</td>\n",
       "                        <td id=\"T_477dcbae_77da_11ea_85c2_a0999b0e91c7row0_col3\" class=\"data row0 col3\" >$628.00</td>\n",
       "                        <td id=\"T_477dcbae_77da_11ea_85c2_a0999b0e91c7row0_col4\" class=\"data row0 col4\" >77.05</td>\n",
       "                        <td id=\"T_477dcbae_77da_11ea_85c2_a0999b0e91c7row0_col5\" class=\"data row0 col5\" >81.03</td>\n",
       "                        <td id=\"T_477dcbae_77da_11ea_85c2_a0999b0e91c7row0_col6\" class=\"data row0 col6\" >66.68</td>\n",
       "                        <td id=\"T_477dcbae_77da_11ea_85c2_a0999b0e91c7row0_col7\" class=\"data row0 col7\" >81.93</td>\n",
       "                        <td id=\"T_477dcbae_77da_11ea_85c2_a0999b0e91c7row0_col8\" class=\"data row0 col8\" >74.31</td>\n",
       "            </tr>\n",
       "            <tr>\n",
       "                        <th id=\"T_477dcbae_77da_11ea_85c2_a0999b0e91c7level0_row1\" class=\"row_heading level0 row1\" >Cabrera High School</th>\n",
       "                        <td id=\"T_477dcbae_77da_11ea_85c2_a0999b0e91c7row1_col0\" class=\"data row1 col0\" >Charter</td>\n",
       "                        <td id=\"T_477dcbae_77da_11ea_85c2_a0999b0e91c7row1_col1\" class=\"data row1 col1\" >1858</td>\n",
       "                        <td id=\"T_477dcbae_77da_11ea_85c2_a0999b0e91c7row1_col2\" class=\"data row1 col2\" >$1,081,356.00</td>\n",
       "                        <td id=\"T_477dcbae_77da_11ea_85c2_a0999b0e91c7row1_col3\" class=\"data row1 col3\" >$582.00</td>\n",
       "                        <td id=\"T_477dcbae_77da_11ea_85c2_a0999b0e91c7row1_col4\" class=\"data row1 col4\" >83.06</td>\n",
       "                        <td id=\"T_477dcbae_77da_11ea_85c2_a0999b0e91c7row1_col5\" class=\"data row1 col5\" >83.98</td>\n",
       "                        <td id=\"T_477dcbae_77da_11ea_85c2_a0999b0e91c7row1_col6\" class=\"data row1 col6\" >94.13</td>\n",
       "                        <td id=\"T_477dcbae_77da_11ea_85c2_a0999b0e91c7row1_col7\" class=\"data row1 col7\" >97.04</td>\n",
       "                        <td id=\"T_477dcbae_77da_11ea_85c2_a0999b0e91c7row1_col8\" class=\"data row1 col8\" >95.59</td>\n",
       "            </tr>\n",
       "            <tr>\n",
       "                        <th id=\"T_477dcbae_77da_11ea_85c2_a0999b0e91c7level0_row2\" class=\"row_heading level0 row2\" >Figueroa High School</th>\n",
       "                        <td id=\"T_477dcbae_77da_11ea_85c2_a0999b0e91c7row2_col0\" class=\"data row2 col0\" >District</td>\n",
       "                        <td id=\"T_477dcbae_77da_11ea_85c2_a0999b0e91c7row2_col1\" class=\"data row2 col1\" >2949</td>\n",
       "                        <td id=\"T_477dcbae_77da_11ea_85c2_a0999b0e91c7row2_col2\" class=\"data row2 col2\" >$1,884,411.00</td>\n",
       "                        <td id=\"T_477dcbae_77da_11ea_85c2_a0999b0e91c7row2_col3\" class=\"data row2 col3\" >$639.00</td>\n",
       "                        <td id=\"T_477dcbae_77da_11ea_85c2_a0999b0e91c7row2_col4\" class=\"data row2 col4\" >76.71</td>\n",
       "                        <td id=\"T_477dcbae_77da_11ea_85c2_a0999b0e91c7row2_col5\" class=\"data row2 col5\" >81.16</td>\n",
       "                        <td id=\"T_477dcbae_77da_11ea_85c2_a0999b0e91c7row2_col6\" class=\"data row2 col6\" >65.99</td>\n",
       "                        <td id=\"T_477dcbae_77da_11ea_85c2_a0999b0e91c7row2_col7\" class=\"data row2 col7\" >80.74</td>\n",
       "                        <td id=\"T_477dcbae_77da_11ea_85c2_a0999b0e91c7row2_col8\" class=\"data row2 col8\" >73.36</td>\n",
       "            </tr>\n",
       "            <tr>\n",
       "                        <th id=\"T_477dcbae_77da_11ea_85c2_a0999b0e91c7level0_row3\" class=\"row_heading level0 row3\" >Ford High School</th>\n",
       "                        <td id=\"T_477dcbae_77da_11ea_85c2_a0999b0e91c7row3_col0\" class=\"data row3 col0\" >District</td>\n",
       "                        <td id=\"T_477dcbae_77da_11ea_85c2_a0999b0e91c7row3_col1\" class=\"data row3 col1\" >2739</td>\n",
       "                        <td id=\"T_477dcbae_77da_11ea_85c2_a0999b0e91c7row3_col2\" class=\"data row3 col2\" >$1,763,916.00</td>\n",
       "                        <td id=\"T_477dcbae_77da_11ea_85c2_a0999b0e91c7row3_col3\" class=\"data row3 col3\" >$644.00</td>\n",
       "                        <td id=\"T_477dcbae_77da_11ea_85c2_a0999b0e91c7row3_col4\" class=\"data row3 col4\" >77.1</td>\n",
       "                        <td id=\"T_477dcbae_77da_11ea_85c2_a0999b0e91c7row3_col5\" class=\"data row3 col5\" >80.75</td>\n",
       "                        <td id=\"T_477dcbae_77da_11ea_85c2_a0999b0e91c7row3_col6\" class=\"data row3 col6\" >68.31</td>\n",
       "                        <td id=\"T_477dcbae_77da_11ea_85c2_a0999b0e91c7row3_col7\" class=\"data row3 col7\" >79.3</td>\n",
       "                        <td id=\"T_477dcbae_77da_11ea_85c2_a0999b0e91c7row3_col8\" class=\"data row3 col8\" >73.8</td>\n",
       "            </tr>\n",
       "            <tr>\n",
       "                        <th id=\"T_477dcbae_77da_11ea_85c2_a0999b0e91c7level0_row4\" class=\"row_heading level0 row4\" >Griffin High School</th>\n",
       "                        <td id=\"T_477dcbae_77da_11ea_85c2_a0999b0e91c7row4_col0\" class=\"data row4 col0\" >Charter</td>\n",
       "                        <td id=\"T_477dcbae_77da_11ea_85c2_a0999b0e91c7row4_col1\" class=\"data row4 col1\" >1468</td>\n",
       "                        <td id=\"T_477dcbae_77da_11ea_85c2_a0999b0e91c7row4_col2\" class=\"data row4 col2\" >$917,500.00</td>\n",
       "                        <td id=\"T_477dcbae_77da_11ea_85c2_a0999b0e91c7row4_col3\" class=\"data row4 col3\" >$625.00</td>\n",
       "                        <td id=\"T_477dcbae_77da_11ea_85c2_a0999b0e91c7row4_col4\" class=\"data row4 col4\" >83.35</td>\n",
       "                        <td id=\"T_477dcbae_77da_11ea_85c2_a0999b0e91c7row4_col5\" class=\"data row4 col5\" >83.82</td>\n",
       "                        <td id=\"T_477dcbae_77da_11ea_85c2_a0999b0e91c7row4_col6\" class=\"data row4 col6\" >93.39</td>\n",
       "                        <td id=\"T_477dcbae_77da_11ea_85c2_a0999b0e91c7row4_col7\" class=\"data row4 col7\" >97.14</td>\n",
       "                        <td id=\"T_477dcbae_77da_11ea_85c2_a0999b0e91c7row4_col8\" class=\"data row4 col8\" >95.27</td>\n",
       "            </tr>\n",
       "            <tr>\n",
       "                        <th id=\"T_477dcbae_77da_11ea_85c2_a0999b0e91c7level0_row5\" class=\"row_heading level0 row5\" >Hernandez High School</th>\n",
       "                        <td id=\"T_477dcbae_77da_11ea_85c2_a0999b0e91c7row5_col0\" class=\"data row5 col0\" >District</td>\n",
       "                        <td id=\"T_477dcbae_77da_11ea_85c2_a0999b0e91c7row5_col1\" class=\"data row5 col1\" >4635</td>\n",
       "                        <td id=\"T_477dcbae_77da_11ea_85c2_a0999b0e91c7row5_col2\" class=\"data row5 col2\" >$3,022,020.00</td>\n",
       "                        <td id=\"T_477dcbae_77da_11ea_85c2_a0999b0e91c7row5_col3\" class=\"data row5 col3\" >$652.00</td>\n",
       "                        <td id=\"T_477dcbae_77da_11ea_85c2_a0999b0e91c7row5_col4\" class=\"data row5 col4\" >77.29</td>\n",
       "                        <td id=\"T_477dcbae_77da_11ea_85c2_a0999b0e91c7row5_col5\" class=\"data row5 col5\" >80.93</td>\n",
       "                        <td id=\"T_477dcbae_77da_11ea_85c2_a0999b0e91c7row5_col6\" class=\"data row5 col6\" >66.75</td>\n",
       "                        <td id=\"T_477dcbae_77da_11ea_85c2_a0999b0e91c7row5_col7\" class=\"data row5 col7\" >80.86</td>\n",
       "                        <td id=\"T_477dcbae_77da_11ea_85c2_a0999b0e91c7row5_col8\" class=\"data row5 col8\" >73.81</td>\n",
       "            </tr>\n",
       "            <tr>\n",
       "                        <th id=\"T_477dcbae_77da_11ea_85c2_a0999b0e91c7level0_row6\" class=\"row_heading level0 row6\" >Holden High School</th>\n",
       "                        <td id=\"T_477dcbae_77da_11ea_85c2_a0999b0e91c7row6_col0\" class=\"data row6 col0\" >Charter</td>\n",
       "                        <td id=\"T_477dcbae_77da_11ea_85c2_a0999b0e91c7row6_col1\" class=\"data row6 col1\" >427</td>\n",
       "                        <td id=\"T_477dcbae_77da_11ea_85c2_a0999b0e91c7row6_col2\" class=\"data row6 col2\" >$248,087.00</td>\n",
       "                        <td id=\"T_477dcbae_77da_11ea_85c2_a0999b0e91c7row6_col3\" class=\"data row6 col3\" >$581.00</td>\n",
       "                        <td id=\"T_477dcbae_77da_11ea_85c2_a0999b0e91c7row6_col4\" class=\"data row6 col4\" >83.8</td>\n",
       "                        <td id=\"T_477dcbae_77da_11ea_85c2_a0999b0e91c7row6_col5\" class=\"data row6 col5\" >83.81</td>\n",
       "                        <td id=\"T_477dcbae_77da_11ea_85c2_a0999b0e91c7row6_col6\" class=\"data row6 col6\" >92.51</td>\n",
       "                        <td id=\"T_477dcbae_77da_11ea_85c2_a0999b0e91c7row6_col7\" class=\"data row6 col7\" >96.25</td>\n",
       "                        <td id=\"T_477dcbae_77da_11ea_85c2_a0999b0e91c7row6_col8\" class=\"data row6 col8\" >94.38</td>\n",
       "            </tr>\n",
       "            <tr>\n",
       "                        <th id=\"T_477dcbae_77da_11ea_85c2_a0999b0e91c7level0_row7\" class=\"row_heading level0 row7\" >Huang High School</th>\n",
       "                        <td id=\"T_477dcbae_77da_11ea_85c2_a0999b0e91c7row7_col0\" class=\"data row7 col0\" >District</td>\n",
       "                        <td id=\"T_477dcbae_77da_11ea_85c2_a0999b0e91c7row7_col1\" class=\"data row7 col1\" >2917</td>\n",
       "                        <td id=\"T_477dcbae_77da_11ea_85c2_a0999b0e91c7row7_col2\" class=\"data row7 col2\" >$1,910,635.00</td>\n",
       "                        <td id=\"T_477dcbae_77da_11ea_85c2_a0999b0e91c7row7_col3\" class=\"data row7 col3\" >$655.00</td>\n",
       "                        <td id=\"T_477dcbae_77da_11ea_85c2_a0999b0e91c7row7_col4\" class=\"data row7 col4\" >76.63</td>\n",
       "                        <td id=\"T_477dcbae_77da_11ea_85c2_a0999b0e91c7row7_col5\" class=\"data row7 col5\" >81.18</td>\n",
       "                        <td id=\"T_477dcbae_77da_11ea_85c2_a0999b0e91c7row7_col6\" class=\"data row7 col6\" >65.68</td>\n",
       "                        <td id=\"T_477dcbae_77da_11ea_85c2_a0999b0e91c7row7_col7\" class=\"data row7 col7\" >81.32</td>\n",
       "                        <td id=\"T_477dcbae_77da_11ea_85c2_a0999b0e91c7row7_col8\" class=\"data row7 col8\" >73.5</td>\n",
       "            </tr>\n",
       "            <tr>\n",
       "                        <th id=\"T_477dcbae_77da_11ea_85c2_a0999b0e91c7level0_row8\" class=\"row_heading level0 row8\" >Johnson High School</th>\n",
       "                        <td id=\"T_477dcbae_77da_11ea_85c2_a0999b0e91c7row8_col0\" class=\"data row8 col0\" >District</td>\n",
       "                        <td id=\"T_477dcbae_77da_11ea_85c2_a0999b0e91c7row8_col1\" class=\"data row8 col1\" >4761</td>\n",
       "                        <td id=\"T_477dcbae_77da_11ea_85c2_a0999b0e91c7row8_col2\" class=\"data row8 col2\" >$3,094,650.00</td>\n",
       "                        <td id=\"T_477dcbae_77da_11ea_85c2_a0999b0e91c7row8_col3\" class=\"data row8 col3\" >$650.00</td>\n",
       "                        <td id=\"T_477dcbae_77da_11ea_85c2_a0999b0e91c7row8_col4\" class=\"data row8 col4\" >77.07</td>\n",
       "                        <td id=\"T_477dcbae_77da_11ea_85c2_a0999b0e91c7row8_col5\" class=\"data row8 col5\" >80.97</td>\n",
       "                        <td id=\"T_477dcbae_77da_11ea_85c2_a0999b0e91c7row8_col6\" class=\"data row8 col6\" >66.06</td>\n",
       "                        <td id=\"T_477dcbae_77da_11ea_85c2_a0999b0e91c7row8_col7\" class=\"data row8 col7\" >81.22</td>\n",
       "                        <td id=\"T_477dcbae_77da_11ea_85c2_a0999b0e91c7row8_col8\" class=\"data row8 col8\" >73.64</td>\n",
       "            </tr>\n",
       "            <tr>\n",
       "                        <th id=\"T_477dcbae_77da_11ea_85c2_a0999b0e91c7level0_row9\" class=\"row_heading level0 row9\" >Pena High School</th>\n",
       "                        <td id=\"T_477dcbae_77da_11ea_85c2_a0999b0e91c7row9_col0\" class=\"data row9 col0\" >Charter</td>\n",
       "                        <td id=\"T_477dcbae_77da_11ea_85c2_a0999b0e91c7row9_col1\" class=\"data row9 col1\" >962</td>\n",
       "                        <td id=\"T_477dcbae_77da_11ea_85c2_a0999b0e91c7row9_col2\" class=\"data row9 col2\" >$585,858.00</td>\n",
       "                        <td id=\"T_477dcbae_77da_11ea_85c2_a0999b0e91c7row9_col3\" class=\"data row9 col3\" >$609.00</td>\n",
       "                        <td id=\"T_477dcbae_77da_11ea_85c2_a0999b0e91c7row9_col4\" class=\"data row9 col4\" >83.84</td>\n",
       "                        <td id=\"T_477dcbae_77da_11ea_85c2_a0999b0e91c7row9_col5\" class=\"data row9 col5\" >84.04</td>\n",
       "                        <td id=\"T_477dcbae_77da_11ea_85c2_a0999b0e91c7row9_col6\" class=\"data row9 col6\" >94.59</td>\n",
       "                        <td id=\"T_477dcbae_77da_11ea_85c2_a0999b0e91c7row9_col7\" class=\"data row9 col7\" >95.95</td>\n",
       "                        <td id=\"T_477dcbae_77da_11ea_85c2_a0999b0e91c7row9_col8\" class=\"data row9 col8\" >95.27</td>\n",
       "            </tr>\n",
       "            <tr>\n",
       "                        <th id=\"T_477dcbae_77da_11ea_85c2_a0999b0e91c7level0_row10\" class=\"row_heading level0 row10\" >Rodriguez High School</th>\n",
       "                        <td id=\"T_477dcbae_77da_11ea_85c2_a0999b0e91c7row10_col0\" class=\"data row10 col0\" >District</td>\n",
       "                        <td id=\"T_477dcbae_77da_11ea_85c2_a0999b0e91c7row10_col1\" class=\"data row10 col1\" >3999</td>\n",
       "                        <td id=\"T_477dcbae_77da_11ea_85c2_a0999b0e91c7row10_col2\" class=\"data row10 col2\" >$2,547,363.00</td>\n",
       "                        <td id=\"T_477dcbae_77da_11ea_85c2_a0999b0e91c7row10_col3\" class=\"data row10 col3\" >$637.00</td>\n",
       "                        <td id=\"T_477dcbae_77da_11ea_85c2_a0999b0e91c7row10_col4\" class=\"data row10 col4\" >76.84</td>\n",
       "                        <td id=\"T_477dcbae_77da_11ea_85c2_a0999b0e91c7row10_col5\" class=\"data row10 col5\" >80.74</td>\n",
       "                        <td id=\"T_477dcbae_77da_11ea_85c2_a0999b0e91c7row10_col6\" class=\"data row10 col6\" >66.37</td>\n",
       "                        <td id=\"T_477dcbae_77da_11ea_85c2_a0999b0e91c7row10_col7\" class=\"data row10 col7\" >80.22</td>\n",
       "                        <td id=\"T_477dcbae_77da_11ea_85c2_a0999b0e91c7row10_col8\" class=\"data row10 col8\" >73.29</td>\n",
       "            </tr>\n",
       "            <tr>\n",
       "                        <th id=\"T_477dcbae_77da_11ea_85c2_a0999b0e91c7level0_row11\" class=\"row_heading level0 row11\" >Shelton High School</th>\n",
       "                        <td id=\"T_477dcbae_77da_11ea_85c2_a0999b0e91c7row11_col0\" class=\"data row11 col0\" >Charter</td>\n",
       "                        <td id=\"T_477dcbae_77da_11ea_85c2_a0999b0e91c7row11_col1\" class=\"data row11 col1\" >1761</td>\n",
       "                        <td id=\"T_477dcbae_77da_11ea_85c2_a0999b0e91c7row11_col2\" class=\"data row11 col2\" >$1,056,600.00</td>\n",
       "                        <td id=\"T_477dcbae_77da_11ea_85c2_a0999b0e91c7row11_col3\" class=\"data row11 col3\" >$600.00</td>\n",
       "                        <td id=\"T_477dcbae_77da_11ea_85c2_a0999b0e91c7row11_col4\" class=\"data row11 col4\" >83.36</td>\n",
       "                        <td id=\"T_477dcbae_77da_11ea_85c2_a0999b0e91c7row11_col5\" class=\"data row11 col5\" >83.73</td>\n",
       "                        <td id=\"T_477dcbae_77da_11ea_85c2_a0999b0e91c7row11_col6\" class=\"data row11 col6\" >93.87</td>\n",
       "                        <td id=\"T_477dcbae_77da_11ea_85c2_a0999b0e91c7row11_col7\" class=\"data row11 col7\" >95.85</td>\n",
       "                        <td id=\"T_477dcbae_77da_11ea_85c2_a0999b0e91c7row11_col8\" class=\"data row11 col8\" >94.86</td>\n",
       "            </tr>\n",
       "            <tr>\n",
       "                        <th id=\"T_477dcbae_77da_11ea_85c2_a0999b0e91c7level0_row12\" class=\"row_heading level0 row12\" >Thomas High School</th>\n",
       "                        <td id=\"T_477dcbae_77da_11ea_85c2_a0999b0e91c7row12_col0\" class=\"data row12 col0\" >Charter</td>\n",
       "                        <td id=\"T_477dcbae_77da_11ea_85c2_a0999b0e91c7row12_col1\" class=\"data row12 col1\" >1635</td>\n",
       "                        <td id=\"T_477dcbae_77da_11ea_85c2_a0999b0e91c7row12_col2\" class=\"data row12 col2\" >$1,043,130.00</td>\n",
       "                        <td id=\"T_477dcbae_77da_11ea_85c2_a0999b0e91c7row12_col3\" class=\"data row12 col3\" >$638.00</td>\n",
       "                        <td id=\"T_477dcbae_77da_11ea_85c2_a0999b0e91c7row12_col4\" class=\"data row12 col4\" >83.42</td>\n",
       "                        <td id=\"T_477dcbae_77da_11ea_85c2_a0999b0e91c7row12_col5\" class=\"data row12 col5\" >83.85</td>\n",
       "                        <td id=\"T_477dcbae_77da_11ea_85c2_a0999b0e91c7row12_col6\" class=\"data row12 col6\" >93.27</td>\n",
       "                        <td id=\"T_477dcbae_77da_11ea_85c2_a0999b0e91c7row12_col7\" class=\"data row12 col7\" >97.31</td>\n",
       "                        <td id=\"T_477dcbae_77da_11ea_85c2_a0999b0e91c7row12_col8\" class=\"data row12 col8\" >95.29</td>\n",
       "            </tr>\n",
       "            <tr>\n",
       "                        <th id=\"T_477dcbae_77da_11ea_85c2_a0999b0e91c7level0_row13\" class=\"row_heading level0 row13\" >Wilson High School</th>\n",
       "                        <td id=\"T_477dcbae_77da_11ea_85c2_a0999b0e91c7row13_col0\" class=\"data row13 col0\" >Charter</td>\n",
       "                        <td id=\"T_477dcbae_77da_11ea_85c2_a0999b0e91c7row13_col1\" class=\"data row13 col1\" >2283</td>\n",
       "                        <td id=\"T_477dcbae_77da_11ea_85c2_a0999b0e91c7row13_col2\" class=\"data row13 col2\" >$1,319,574.00</td>\n",
       "                        <td id=\"T_477dcbae_77da_11ea_85c2_a0999b0e91c7row13_col3\" class=\"data row13 col3\" >$578.00</td>\n",
       "                        <td id=\"T_477dcbae_77da_11ea_85c2_a0999b0e91c7row13_col4\" class=\"data row13 col4\" >83.27</td>\n",
       "                        <td id=\"T_477dcbae_77da_11ea_85c2_a0999b0e91c7row13_col5\" class=\"data row13 col5\" >83.99</td>\n",
       "                        <td id=\"T_477dcbae_77da_11ea_85c2_a0999b0e91c7row13_col6\" class=\"data row13 col6\" >93.87</td>\n",
       "                        <td id=\"T_477dcbae_77da_11ea_85c2_a0999b0e91c7row13_col7\" class=\"data row13 col7\" >96.54</td>\n",
       "                        <td id=\"T_477dcbae_77da_11ea_85c2_a0999b0e91c7row13_col8\" class=\"data row13 col8\" >95.2</td>\n",
       "            </tr>\n",
       "            <tr>\n",
       "                        <th id=\"T_477dcbae_77da_11ea_85c2_a0999b0e91c7level0_row14\" class=\"row_heading level0 row14\" >Wright High School</th>\n",
       "                        <td id=\"T_477dcbae_77da_11ea_85c2_a0999b0e91c7row14_col0\" class=\"data row14 col0\" >Charter</td>\n",
       "                        <td id=\"T_477dcbae_77da_11ea_85c2_a0999b0e91c7row14_col1\" class=\"data row14 col1\" >1800</td>\n",
       "                        <td id=\"T_477dcbae_77da_11ea_85c2_a0999b0e91c7row14_col2\" class=\"data row14 col2\" >$1,049,400.00</td>\n",
       "                        <td id=\"T_477dcbae_77da_11ea_85c2_a0999b0e91c7row14_col3\" class=\"data row14 col3\" >$583.00</td>\n",
       "                        <td id=\"T_477dcbae_77da_11ea_85c2_a0999b0e91c7row14_col4\" class=\"data row14 col4\" >83.68</td>\n",
       "                        <td id=\"T_477dcbae_77da_11ea_85c2_a0999b0e91c7row14_col5\" class=\"data row14 col5\" >83.96</td>\n",
       "                        <td id=\"T_477dcbae_77da_11ea_85c2_a0999b0e91c7row14_col6\" class=\"data row14 col6\" >93.33</td>\n",
       "                        <td id=\"T_477dcbae_77da_11ea_85c2_a0999b0e91c7row14_col7\" class=\"data row14 col7\" >96.61</td>\n",
       "                        <td id=\"T_477dcbae_77da_11ea_85c2_a0999b0e91c7row14_col8\" class=\"data row14 col8\" >94.97</td>\n",
       "            </tr>\n",
       "    </tbody></table>"
      ],
      "text/plain": [
       "<pandas.io.formats.style.Styler at 0x123f523d0>"
      ]
     },
     "execution_count": 41,
     "metadata": {},
     "output_type": "execute_result"
    }
   ],
   "source": [
    "School_summary = pd.DataFrame({\"School Type\": schoolgroup_type, \"Total Students\": total_students_perschool_df, \"Total School Budget\": total_budget_perschool_df, \"Per Student Budget\": per_student_budget_df, \"Average Math Score\": round(Avg_math_score_schoolgroup,2), \"Average Reading Score\": round(Avg_reading_score_schoolgroup,2), \"% Passing Math\": round(Percetange_math_df,2), \"% Passing Reading\": round(Percetange_reading_df,2), \"% Overall Passing\": round(Percetange_overall_df,2)})\n",
    "School_summary[\"Total School Budget\"] = School_summary[\"Total School Budget\"].map(\"${:,.2f}\".format)\n",
    "School_summary[\"Per Student Budget\"] = School_summary[\"Per Student Budget\"].map(\"${:,.2f}\".format)\n",
    "School_summary.style"
   ]
  },
  {
   "cell_type": "markdown",
   "metadata": {},
   "source": [
    "## Top Performing Schools (By % Overall Passing)"
   ]
  },
  {
   "cell_type": "markdown",
   "metadata": {},
   "source": [
    "* Sort and display the top five performing schools by % overall passing."
   ]
  },
  {
   "cell_type": "code",
   "execution_count": 42,
   "metadata": {
    "scrolled": false
   },
   "outputs": [
    {
     "data": {
      "text/html": [
       "<style  type=\"text/css\" >\n",
       "</style><table id=\"T_4b0014da_77da_11ea_85c2_a0999b0e91c7\" ><thead>    <tr>        <th class=\"blank level0\" ></th>        <th class=\"col_heading level0 col0\" >School Type</th>        <th class=\"col_heading level0 col1\" >Total Students</th>        <th class=\"col_heading level0 col2\" >Total School Budget</th>        <th class=\"col_heading level0 col3\" >Per Student Budget</th>        <th class=\"col_heading level0 col4\" >Average Math Score</th>        <th class=\"col_heading level0 col5\" >Average Reading Score</th>        <th class=\"col_heading level0 col6\" >% Passing Math</th>        <th class=\"col_heading level0 col7\" >% Passing Reading</th>        <th class=\"col_heading level0 col8\" >% Overall Passing</th>    </tr>    <tr>        <th class=\"index_name level0\" >school_name</th>        <th class=\"blank\" ></th>        <th class=\"blank\" ></th>        <th class=\"blank\" ></th>        <th class=\"blank\" ></th>        <th class=\"blank\" ></th>        <th class=\"blank\" ></th>        <th class=\"blank\" ></th>        <th class=\"blank\" ></th>        <th class=\"blank\" ></th>    </tr></thead><tbody>\n",
       "                <tr>\n",
       "                        <th id=\"T_4b0014da_77da_11ea_85c2_a0999b0e91c7level0_row0\" class=\"row_heading level0 row0\" >Cabrera High School</th>\n",
       "                        <td id=\"T_4b0014da_77da_11ea_85c2_a0999b0e91c7row0_col0\" class=\"data row0 col0\" >Charter</td>\n",
       "                        <td id=\"T_4b0014da_77da_11ea_85c2_a0999b0e91c7row0_col1\" class=\"data row0 col1\" >1858</td>\n",
       "                        <td id=\"T_4b0014da_77da_11ea_85c2_a0999b0e91c7row0_col2\" class=\"data row0 col2\" >$1,081,356.00</td>\n",
       "                        <td id=\"T_4b0014da_77da_11ea_85c2_a0999b0e91c7row0_col3\" class=\"data row0 col3\" >$582.00</td>\n",
       "                        <td id=\"T_4b0014da_77da_11ea_85c2_a0999b0e91c7row0_col4\" class=\"data row0 col4\" >83.06</td>\n",
       "                        <td id=\"T_4b0014da_77da_11ea_85c2_a0999b0e91c7row0_col5\" class=\"data row0 col5\" >83.98</td>\n",
       "                        <td id=\"T_4b0014da_77da_11ea_85c2_a0999b0e91c7row0_col6\" class=\"data row0 col6\" >94.13</td>\n",
       "                        <td id=\"T_4b0014da_77da_11ea_85c2_a0999b0e91c7row0_col7\" class=\"data row0 col7\" >97.04</td>\n",
       "                        <td id=\"T_4b0014da_77da_11ea_85c2_a0999b0e91c7row0_col8\" class=\"data row0 col8\" >95.59</td>\n",
       "            </tr>\n",
       "            <tr>\n",
       "                        <th id=\"T_4b0014da_77da_11ea_85c2_a0999b0e91c7level0_row1\" class=\"row_heading level0 row1\" >Thomas High School</th>\n",
       "                        <td id=\"T_4b0014da_77da_11ea_85c2_a0999b0e91c7row1_col0\" class=\"data row1 col0\" >Charter</td>\n",
       "                        <td id=\"T_4b0014da_77da_11ea_85c2_a0999b0e91c7row1_col1\" class=\"data row1 col1\" >1635</td>\n",
       "                        <td id=\"T_4b0014da_77da_11ea_85c2_a0999b0e91c7row1_col2\" class=\"data row1 col2\" >$1,043,130.00</td>\n",
       "                        <td id=\"T_4b0014da_77da_11ea_85c2_a0999b0e91c7row1_col3\" class=\"data row1 col3\" >$638.00</td>\n",
       "                        <td id=\"T_4b0014da_77da_11ea_85c2_a0999b0e91c7row1_col4\" class=\"data row1 col4\" >83.42</td>\n",
       "                        <td id=\"T_4b0014da_77da_11ea_85c2_a0999b0e91c7row1_col5\" class=\"data row1 col5\" >83.85</td>\n",
       "                        <td id=\"T_4b0014da_77da_11ea_85c2_a0999b0e91c7row1_col6\" class=\"data row1 col6\" >93.27</td>\n",
       "                        <td id=\"T_4b0014da_77da_11ea_85c2_a0999b0e91c7row1_col7\" class=\"data row1 col7\" >97.31</td>\n",
       "                        <td id=\"T_4b0014da_77da_11ea_85c2_a0999b0e91c7row1_col8\" class=\"data row1 col8\" >95.29</td>\n",
       "            </tr>\n",
       "            <tr>\n",
       "                        <th id=\"T_4b0014da_77da_11ea_85c2_a0999b0e91c7level0_row2\" class=\"row_heading level0 row2\" >Griffin High School</th>\n",
       "                        <td id=\"T_4b0014da_77da_11ea_85c2_a0999b0e91c7row2_col0\" class=\"data row2 col0\" >Charter</td>\n",
       "                        <td id=\"T_4b0014da_77da_11ea_85c2_a0999b0e91c7row2_col1\" class=\"data row2 col1\" >1468</td>\n",
       "                        <td id=\"T_4b0014da_77da_11ea_85c2_a0999b0e91c7row2_col2\" class=\"data row2 col2\" >$917,500.00</td>\n",
       "                        <td id=\"T_4b0014da_77da_11ea_85c2_a0999b0e91c7row2_col3\" class=\"data row2 col3\" >$625.00</td>\n",
       "                        <td id=\"T_4b0014da_77da_11ea_85c2_a0999b0e91c7row2_col4\" class=\"data row2 col4\" >83.35</td>\n",
       "                        <td id=\"T_4b0014da_77da_11ea_85c2_a0999b0e91c7row2_col5\" class=\"data row2 col5\" >83.82</td>\n",
       "                        <td id=\"T_4b0014da_77da_11ea_85c2_a0999b0e91c7row2_col6\" class=\"data row2 col6\" >93.39</td>\n",
       "                        <td id=\"T_4b0014da_77da_11ea_85c2_a0999b0e91c7row2_col7\" class=\"data row2 col7\" >97.14</td>\n",
       "                        <td id=\"T_4b0014da_77da_11ea_85c2_a0999b0e91c7row2_col8\" class=\"data row2 col8\" >95.27</td>\n",
       "            </tr>\n",
       "            <tr>\n",
       "                        <th id=\"T_4b0014da_77da_11ea_85c2_a0999b0e91c7level0_row3\" class=\"row_heading level0 row3\" >Pena High School</th>\n",
       "                        <td id=\"T_4b0014da_77da_11ea_85c2_a0999b0e91c7row3_col0\" class=\"data row3 col0\" >Charter</td>\n",
       "                        <td id=\"T_4b0014da_77da_11ea_85c2_a0999b0e91c7row3_col1\" class=\"data row3 col1\" >962</td>\n",
       "                        <td id=\"T_4b0014da_77da_11ea_85c2_a0999b0e91c7row3_col2\" class=\"data row3 col2\" >$585,858.00</td>\n",
       "                        <td id=\"T_4b0014da_77da_11ea_85c2_a0999b0e91c7row3_col3\" class=\"data row3 col3\" >$609.00</td>\n",
       "                        <td id=\"T_4b0014da_77da_11ea_85c2_a0999b0e91c7row3_col4\" class=\"data row3 col4\" >83.84</td>\n",
       "                        <td id=\"T_4b0014da_77da_11ea_85c2_a0999b0e91c7row3_col5\" class=\"data row3 col5\" >84.04</td>\n",
       "                        <td id=\"T_4b0014da_77da_11ea_85c2_a0999b0e91c7row3_col6\" class=\"data row3 col6\" >94.59</td>\n",
       "                        <td id=\"T_4b0014da_77da_11ea_85c2_a0999b0e91c7row3_col7\" class=\"data row3 col7\" >95.95</td>\n",
       "                        <td id=\"T_4b0014da_77da_11ea_85c2_a0999b0e91c7row3_col8\" class=\"data row3 col8\" >95.27</td>\n",
       "            </tr>\n",
       "            <tr>\n",
       "                        <th id=\"T_4b0014da_77da_11ea_85c2_a0999b0e91c7level0_row4\" class=\"row_heading level0 row4\" >Wilson High School</th>\n",
       "                        <td id=\"T_4b0014da_77da_11ea_85c2_a0999b0e91c7row4_col0\" class=\"data row4 col0\" >Charter</td>\n",
       "                        <td id=\"T_4b0014da_77da_11ea_85c2_a0999b0e91c7row4_col1\" class=\"data row4 col1\" >2283</td>\n",
       "                        <td id=\"T_4b0014da_77da_11ea_85c2_a0999b0e91c7row4_col2\" class=\"data row4 col2\" >$1,319,574.00</td>\n",
       "                        <td id=\"T_4b0014da_77da_11ea_85c2_a0999b0e91c7row4_col3\" class=\"data row4 col3\" >$578.00</td>\n",
       "                        <td id=\"T_4b0014da_77da_11ea_85c2_a0999b0e91c7row4_col4\" class=\"data row4 col4\" >83.27</td>\n",
       "                        <td id=\"T_4b0014da_77da_11ea_85c2_a0999b0e91c7row4_col5\" class=\"data row4 col5\" >83.99</td>\n",
       "                        <td id=\"T_4b0014da_77da_11ea_85c2_a0999b0e91c7row4_col6\" class=\"data row4 col6\" >93.87</td>\n",
       "                        <td id=\"T_4b0014da_77da_11ea_85c2_a0999b0e91c7row4_col7\" class=\"data row4 col7\" >96.54</td>\n",
       "                        <td id=\"T_4b0014da_77da_11ea_85c2_a0999b0e91c7row4_col8\" class=\"data row4 col8\" >95.2</td>\n",
       "            </tr>\n",
       "    </tbody></table>"
      ],
      "text/plain": [
       "<pandas.io.formats.style.Styler at 0x1119159d0>"
      ]
     },
     "execution_count": 42,
     "metadata": {},
     "output_type": "execute_result"
    }
   ],
   "source": [
    "School_summary.sort_values(\"% Overall Passing\",ascending = False).head(5).style"
   ]
  },
  {
   "cell_type": "markdown",
   "metadata": {},
   "source": [
    "## Bottom Performing Schools (By % Overall Passing)"
   ]
  },
  {
   "cell_type": "markdown",
   "metadata": {},
   "source": [
    "* Sort and display the five worst-performing schools by % overall passing."
   ]
  },
  {
   "cell_type": "code",
   "execution_count": 43,
   "metadata": {},
   "outputs": [
    {
     "data": {
      "text/html": [
       "<style  type=\"text/css\" >\n",
       "</style><table id=\"T_4be66d04_77da_11ea_85c2_a0999b0e91c7\" ><thead>    <tr>        <th class=\"blank level0\" ></th>        <th class=\"col_heading level0 col0\" >School Type</th>        <th class=\"col_heading level0 col1\" >Total Students</th>        <th class=\"col_heading level0 col2\" >Total School Budget</th>        <th class=\"col_heading level0 col3\" >Per Student Budget</th>        <th class=\"col_heading level0 col4\" >Average Math Score</th>        <th class=\"col_heading level0 col5\" >Average Reading Score</th>        <th class=\"col_heading level0 col6\" >% Passing Math</th>        <th class=\"col_heading level0 col7\" >% Passing Reading</th>        <th class=\"col_heading level0 col8\" >% Overall Passing</th>    </tr>    <tr>        <th class=\"index_name level0\" >school_name</th>        <th class=\"blank\" ></th>        <th class=\"blank\" ></th>        <th class=\"blank\" ></th>        <th class=\"blank\" ></th>        <th class=\"blank\" ></th>        <th class=\"blank\" ></th>        <th class=\"blank\" ></th>        <th class=\"blank\" ></th>        <th class=\"blank\" ></th>    </tr></thead><tbody>\n",
       "                <tr>\n",
       "                        <th id=\"T_4be66d04_77da_11ea_85c2_a0999b0e91c7level0_row0\" class=\"row_heading level0 row0\" >Rodriguez High School</th>\n",
       "                        <td id=\"T_4be66d04_77da_11ea_85c2_a0999b0e91c7row0_col0\" class=\"data row0 col0\" >District</td>\n",
       "                        <td id=\"T_4be66d04_77da_11ea_85c2_a0999b0e91c7row0_col1\" class=\"data row0 col1\" >3999</td>\n",
       "                        <td id=\"T_4be66d04_77da_11ea_85c2_a0999b0e91c7row0_col2\" class=\"data row0 col2\" >$2,547,363.00</td>\n",
       "                        <td id=\"T_4be66d04_77da_11ea_85c2_a0999b0e91c7row0_col3\" class=\"data row0 col3\" >$637.00</td>\n",
       "                        <td id=\"T_4be66d04_77da_11ea_85c2_a0999b0e91c7row0_col4\" class=\"data row0 col4\" >76.84</td>\n",
       "                        <td id=\"T_4be66d04_77da_11ea_85c2_a0999b0e91c7row0_col5\" class=\"data row0 col5\" >80.74</td>\n",
       "                        <td id=\"T_4be66d04_77da_11ea_85c2_a0999b0e91c7row0_col6\" class=\"data row0 col6\" >66.37</td>\n",
       "                        <td id=\"T_4be66d04_77da_11ea_85c2_a0999b0e91c7row0_col7\" class=\"data row0 col7\" >80.22</td>\n",
       "                        <td id=\"T_4be66d04_77da_11ea_85c2_a0999b0e91c7row0_col8\" class=\"data row0 col8\" >73.29</td>\n",
       "            </tr>\n",
       "            <tr>\n",
       "                        <th id=\"T_4be66d04_77da_11ea_85c2_a0999b0e91c7level0_row1\" class=\"row_heading level0 row1\" >Figueroa High School</th>\n",
       "                        <td id=\"T_4be66d04_77da_11ea_85c2_a0999b0e91c7row1_col0\" class=\"data row1 col0\" >District</td>\n",
       "                        <td id=\"T_4be66d04_77da_11ea_85c2_a0999b0e91c7row1_col1\" class=\"data row1 col1\" >2949</td>\n",
       "                        <td id=\"T_4be66d04_77da_11ea_85c2_a0999b0e91c7row1_col2\" class=\"data row1 col2\" >$1,884,411.00</td>\n",
       "                        <td id=\"T_4be66d04_77da_11ea_85c2_a0999b0e91c7row1_col3\" class=\"data row1 col3\" >$639.00</td>\n",
       "                        <td id=\"T_4be66d04_77da_11ea_85c2_a0999b0e91c7row1_col4\" class=\"data row1 col4\" >76.71</td>\n",
       "                        <td id=\"T_4be66d04_77da_11ea_85c2_a0999b0e91c7row1_col5\" class=\"data row1 col5\" >81.16</td>\n",
       "                        <td id=\"T_4be66d04_77da_11ea_85c2_a0999b0e91c7row1_col6\" class=\"data row1 col6\" >65.99</td>\n",
       "                        <td id=\"T_4be66d04_77da_11ea_85c2_a0999b0e91c7row1_col7\" class=\"data row1 col7\" >80.74</td>\n",
       "                        <td id=\"T_4be66d04_77da_11ea_85c2_a0999b0e91c7row1_col8\" class=\"data row1 col8\" >73.36</td>\n",
       "            </tr>\n",
       "            <tr>\n",
       "                        <th id=\"T_4be66d04_77da_11ea_85c2_a0999b0e91c7level0_row2\" class=\"row_heading level0 row2\" >Huang High School</th>\n",
       "                        <td id=\"T_4be66d04_77da_11ea_85c2_a0999b0e91c7row2_col0\" class=\"data row2 col0\" >District</td>\n",
       "                        <td id=\"T_4be66d04_77da_11ea_85c2_a0999b0e91c7row2_col1\" class=\"data row2 col1\" >2917</td>\n",
       "                        <td id=\"T_4be66d04_77da_11ea_85c2_a0999b0e91c7row2_col2\" class=\"data row2 col2\" >$1,910,635.00</td>\n",
       "                        <td id=\"T_4be66d04_77da_11ea_85c2_a0999b0e91c7row2_col3\" class=\"data row2 col3\" >$655.00</td>\n",
       "                        <td id=\"T_4be66d04_77da_11ea_85c2_a0999b0e91c7row2_col4\" class=\"data row2 col4\" >76.63</td>\n",
       "                        <td id=\"T_4be66d04_77da_11ea_85c2_a0999b0e91c7row2_col5\" class=\"data row2 col5\" >81.18</td>\n",
       "                        <td id=\"T_4be66d04_77da_11ea_85c2_a0999b0e91c7row2_col6\" class=\"data row2 col6\" >65.68</td>\n",
       "                        <td id=\"T_4be66d04_77da_11ea_85c2_a0999b0e91c7row2_col7\" class=\"data row2 col7\" >81.32</td>\n",
       "                        <td id=\"T_4be66d04_77da_11ea_85c2_a0999b0e91c7row2_col8\" class=\"data row2 col8\" >73.5</td>\n",
       "            </tr>\n",
       "            <tr>\n",
       "                        <th id=\"T_4be66d04_77da_11ea_85c2_a0999b0e91c7level0_row3\" class=\"row_heading level0 row3\" >Johnson High School</th>\n",
       "                        <td id=\"T_4be66d04_77da_11ea_85c2_a0999b0e91c7row3_col0\" class=\"data row3 col0\" >District</td>\n",
       "                        <td id=\"T_4be66d04_77da_11ea_85c2_a0999b0e91c7row3_col1\" class=\"data row3 col1\" >4761</td>\n",
       "                        <td id=\"T_4be66d04_77da_11ea_85c2_a0999b0e91c7row3_col2\" class=\"data row3 col2\" >$3,094,650.00</td>\n",
       "                        <td id=\"T_4be66d04_77da_11ea_85c2_a0999b0e91c7row3_col3\" class=\"data row3 col3\" >$650.00</td>\n",
       "                        <td id=\"T_4be66d04_77da_11ea_85c2_a0999b0e91c7row3_col4\" class=\"data row3 col4\" >77.07</td>\n",
       "                        <td id=\"T_4be66d04_77da_11ea_85c2_a0999b0e91c7row3_col5\" class=\"data row3 col5\" >80.97</td>\n",
       "                        <td id=\"T_4be66d04_77da_11ea_85c2_a0999b0e91c7row3_col6\" class=\"data row3 col6\" >66.06</td>\n",
       "                        <td id=\"T_4be66d04_77da_11ea_85c2_a0999b0e91c7row3_col7\" class=\"data row3 col7\" >81.22</td>\n",
       "                        <td id=\"T_4be66d04_77da_11ea_85c2_a0999b0e91c7row3_col8\" class=\"data row3 col8\" >73.64</td>\n",
       "            </tr>\n",
       "            <tr>\n",
       "                        <th id=\"T_4be66d04_77da_11ea_85c2_a0999b0e91c7level0_row4\" class=\"row_heading level0 row4\" >Ford High School</th>\n",
       "                        <td id=\"T_4be66d04_77da_11ea_85c2_a0999b0e91c7row4_col0\" class=\"data row4 col0\" >District</td>\n",
       "                        <td id=\"T_4be66d04_77da_11ea_85c2_a0999b0e91c7row4_col1\" class=\"data row4 col1\" >2739</td>\n",
       "                        <td id=\"T_4be66d04_77da_11ea_85c2_a0999b0e91c7row4_col2\" class=\"data row4 col2\" >$1,763,916.00</td>\n",
       "                        <td id=\"T_4be66d04_77da_11ea_85c2_a0999b0e91c7row4_col3\" class=\"data row4 col3\" >$644.00</td>\n",
       "                        <td id=\"T_4be66d04_77da_11ea_85c2_a0999b0e91c7row4_col4\" class=\"data row4 col4\" >77.1</td>\n",
       "                        <td id=\"T_4be66d04_77da_11ea_85c2_a0999b0e91c7row4_col5\" class=\"data row4 col5\" >80.75</td>\n",
       "                        <td id=\"T_4be66d04_77da_11ea_85c2_a0999b0e91c7row4_col6\" class=\"data row4 col6\" >68.31</td>\n",
       "                        <td id=\"T_4be66d04_77da_11ea_85c2_a0999b0e91c7row4_col7\" class=\"data row4 col7\" >79.3</td>\n",
       "                        <td id=\"T_4be66d04_77da_11ea_85c2_a0999b0e91c7row4_col8\" class=\"data row4 col8\" >73.8</td>\n",
       "            </tr>\n",
       "    </tbody></table>"
      ],
      "text/plain": [
       "<pandas.io.formats.style.Styler at 0x123f2b6d0>"
      ]
     },
     "execution_count": 43,
     "metadata": {},
     "output_type": "execute_result"
    }
   ],
   "source": [
    "School_summary.sort_values(\"% Overall Passing\").head(5).style"
   ]
  },
  {
   "cell_type": "markdown",
   "metadata": {
    "collapsed": true
   },
   "source": [
    "## Math Scores by Grade"
   ]
  },
  {
   "cell_type": "markdown",
   "metadata": {},
   "source": [
    "* Create a table that lists the average Reading Score for students of each grade level (9th, 10th, 11th, 12th) at each school.\n",
    "\n",
    "  * Create a pandas series for each grade. Hint: use a conditional statement.\n",
    "  \n",
    "  * Group each series by school\n",
    "  \n",
    "  * Combine the series into a dataframe\n",
    "  \n",
    "  * Optional: give the displayed data cleaner formatting"
   ]
  },
  {
   "cell_type": "code",
   "execution_count": 44,
   "metadata": {},
   "outputs": [],
   "source": [
    "\n",
    "#Create a pandas series for each grade. Group each series by school.\n",
    "\n",
    "math_score_bygrade_9th = school_data_complete[school_data_complete[\"grade\"] == \"9th\"].groupby(\"school_name\").mean()[\"math_score\"]\n",
    "math_score_bygrade_10th = school_data_complete[school_data_complete[\"grade\"] == \"10th\"].groupby(\"school_name\").mean()[\"math_score\"]\n",
    "math_score_bygrade_11th = school_data_complete[school_data_complete[\"grade\"] == \"11th\"].groupby(\"school_name\").mean()[\"math_score\"]\n",
    "math_score_bygrade_12th = school_data_complete[school_data_complete[\"grade\"] == \"12th\"].groupby(\"school_name\").mean()[\"math_score\"]"
   ]
  },
  {
   "cell_type": "code",
   "execution_count": 45,
   "metadata": {},
   "outputs": [
    {
     "data": {
      "text/html": [
       "<style  type=\"text/css\" >\n",
       "</style><table id=\"T_4d01e16e_77da_11ea_85c2_a0999b0e91c7\" ><thead>    <tr>        <th class=\"blank level0\" ></th>        <th class=\"col_heading level0 col0\" >9th</th>        <th class=\"col_heading level0 col1\" >10th</th>        <th class=\"col_heading level0 col2\" >11th</th>        <th class=\"col_heading level0 col3\" >12th</th>    </tr>    <tr>        <th class=\"index_name level0\" >school_name</th>        <th class=\"blank\" ></th>        <th class=\"blank\" ></th>        <th class=\"blank\" ></th>        <th class=\"blank\" ></th>    </tr></thead><tbody>\n",
       "                <tr>\n",
       "                        <th id=\"T_4d01e16e_77da_11ea_85c2_a0999b0e91c7level0_row0\" class=\"row_heading level0 row0\" >Bailey High School</th>\n",
       "                        <td id=\"T_4d01e16e_77da_11ea_85c2_a0999b0e91c7row0_col0\" class=\"data row0 col0\" >77.08</td>\n",
       "                        <td id=\"T_4d01e16e_77da_11ea_85c2_a0999b0e91c7row0_col1\" class=\"data row0 col1\" >77.00</td>\n",
       "                        <td id=\"T_4d01e16e_77da_11ea_85c2_a0999b0e91c7row0_col2\" class=\"data row0 col2\" >77.52</td>\n",
       "                        <td id=\"T_4d01e16e_77da_11ea_85c2_a0999b0e91c7row0_col3\" class=\"data row0 col3\" >76.49</td>\n",
       "            </tr>\n",
       "            <tr>\n",
       "                        <th id=\"T_4d01e16e_77da_11ea_85c2_a0999b0e91c7level0_row1\" class=\"row_heading level0 row1\" >Cabrera High School</th>\n",
       "                        <td id=\"T_4d01e16e_77da_11ea_85c2_a0999b0e91c7row1_col0\" class=\"data row1 col0\" >83.09</td>\n",
       "                        <td id=\"T_4d01e16e_77da_11ea_85c2_a0999b0e91c7row1_col1\" class=\"data row1 col1\" >83.15</td>\n",
       "                        <td id=\"T_4d01e16e_77da_11ea_85c2_a0999b0e91c7row1_col2\" class=\"data row1 col2\" >82.77</td>\n",
       "                        <td id=\"T_4d01e16e_77da_11ea_85c2_a0999b0e91c7row1_col3\" class=\"data row1 col3\" >83.28</td>\n",
       "            </tr>\n",
       "            <tr>\n",
       "                        <th id=\"T_4d01e16e_77da_11ea_85c2_a0999b0e91c7level0_row2\" class=\"row_heading level0 row2\" >Figueroa High School</th>\n",
       "                        <td id=\"T_4d01e16e_77da_11ea_85c2_a0999b0e91c7row2_col0\" class=\"data row2 col0\" >76.40</td>\n",
       "                        <td id=\"T_4d01e16e_77da_11ea_85c2_a0999b0e91c7row2_col1\" class=\"data row2 col1\" >76.54</td>\n",
       "                        <td id=\"T_4d01e16e_77da_11ea_85c2_a0999b0e91c7row2_col2\" class=\"data row2 col2\" >76.88</td>\n",
       "                        <td id=\"T_4d01e16e_77da_11ea_85c2_a0999b0e91c7row2_col3\" class=\"data row2 col3\" >77.15</td>\n",
       "            </tr>\n",
       "            <tr>\n",
       "                        <th id=\"T_4d01e16e_77da_11ea_85c2_a0999b0e91c7level0_row3\" class=\"row_heading level0 row3\" >Ford High School</th>\n",
       "                        <td id=\"T_4d01e16e_77da_11ea_85c2_a0999b0e91c7row3_col0\" class=\"data row3 col0\" >77.36</td>\n",
       "                        <td id=\"T_4d01e16e_77da_11ea_85c2_a0999b0e91c7row3_col1\" class=\"data row3 col1\" >77.67</td>\n",
       "                        <td id=\"T_4d01e16e_77da_11ea_85c2_a0999b0e91c7row3_col2\" class=\"data row3 col2\" >76.92</td>\n",
       "                        <td id=\"T_4d01e16e_77da_11ea_85c2_a0999b0e91c7row3_col3\" class=\"data row3 col3\" >76.18</td>\n",
       "            </tr>\n",
       "            <tr>\n",
       "                        <th id=\"T_4d01e16e_77da_11ea_85c2_a0999b0e91c7level0_row4\" class=\"row_heading level0 row4\" >Griffin High School</th>\n",
       "                        <td id=\"T_4d01e16e_77da_11ea_85c2_a0999b0e91c7row4_col0\" class=\"data row4 col0\" >82.04</td>\n",
       "                        <td id=\"T_4d01e16e_77da_11ea_85c2_a0999b0e91c7row4_col1\" class=\"data row4 col1\" >84.23</td>\n",
       "                        <td id=\"T_4d01e16e_77da_11ea_85c2_a0999b0e91c7row4_col2\" class=\"data row4 col2\" >83.84</td>\n",
       "                        <td id=\"T_4d01e16e_77da_11ea_85c2_a0999b0e91c7row4_col3\" class=\"data row4 col3\" >83.36</td>\n",
       "            </tr>\n",
       "            <tr>\n",
       "                        <th id=\"T_4d01e16e_77da_11ea_85c2_a0999b0e91c7level0_row5\" class=\"row_heading level0 row5\" >Hernandez High School</th>\n",
       "                        <td id=\"T_4d01e16e_77da_11ea_85c2_a0999b0e91c7row5_col0\" class=\"data row5 col0\" >77.44</td>\n",
       "                        <td id=\"T_4d01e16e_77da_11ea_85c2_a0999b0e91c7row5_col1\" class=\"data row5 col1\" >77.34</td>\n",
       "                        <td id=\"T_4d01e16e_77da_11ea_85c2_a0999b0e91c7row5_col2\" class=\"data row5 col2\" >77.14</td>\n",
       "                        <td id=\"T_4d01e16e_77da_11ea_85c2_a0999b0e91c7row5_col3\" class=\"data row5 col3\" >77.19</td>\n",
       "            </tr>\n",
       "            <tr>\n",
       "                        <th id=\"T_4d01e16e_77da_11ea_85c2_a0999b0e91c7level0_row6\" class=\"row_heading level0 row6\" >Holden High School</th>\n",
       "                        <td id=\"T_4d01e16e_77da_11ea_85c2_a0999b0e91c7row6_col0\" class=\"data row6 col0\" >83.79</td>\n",
       "                        <td id=\"T_4d01e16e_77da_11ea_85c2_a0999b0e91c7row6_col1\" class=\"data row6 col1\" >83.43</td>\n",
       "                        <td id=\"T_4d01e16e_77da_11ea_85c2_a0999b0e91c7row6_col2\" class=\"data row6 col2\" >85.00</td>\n",
       "                        <td id=\"T_4d01e16e_77da_11ea_85c2_a0999b0e91c7row6_col3\" class=\"data row6 col3\" >82.86</td>\n",
       "            </tr>\n",
       "            <tr>\n",
       "                        <th id=\"T_4d01e16e_77da_11ea_85c2_a0999b0e91c7level0_row7\" class=\"row_heading level0 row7\" >Huang High School</th>\n",
       "                        <td id=\"T_4d01e16e_77da_11ea_85c2_a0999b0e91c7row7_col0\" class=\"data row7 col0\" >77.03</td>\n",
       "                        <td id=\"T_4d01e16e_77da_11ea_85c2_a0999b0e91c7row7_col1\" class=\"data row7 col1\" >75.91</td>\n",
       "                        <td id=\"T_4d01e16e_77da_11ea_85c2_a0999b0e91c7row7_col2\" class=\"data row7 col2\" >76.45</td>\n",
       "                        <td id=\"T_4d01e16e_77da_11ea_85c2_a0999b0e91c7row7_col3\" class=\"data row7 col3\" >77.23</td>\n",
       "            </tr>\n",
       "            <tr>\n",
       "                        <th id=\"T_4d01e16e_77da_11ea_85c2_a0999b0e91c7level0_row8\" class=\"row_heading level0 row8\" >Johnson High School</th>\n",
       "                        <td id=\"T_4d01e16e_77da_11ea_85c2_a0999b0e91c7row8_col0\" class=\"data row8 col0\" >77.19</td>\n",
       "                        <td id=\"T_4d01e16e_77da_11ea_85c2_a0999b0e91c7row8_col1\" class=\"data row8 col1\" >76.69</td>\n",
       "                        <td id=\"T_4d01e16e_77da_11ea_85c2_a0999b0e91c7row8_col2\" class=\"data row8 col2\" >77.49</td>\n",
       "                        <td id=\"T_4d01e16e_77da_11ea_85c2_a0999b0e91c7row8_col3\" class=\"data row8 col3\" >76.86</td>\n",
       "            </tr>\n",
       "            <tr>\n",
       "                        <th id=\"T_4d01e16e_77da_11ea_85c2_a0999b0e91c7level0_row9\" class=\"row_heading level0 row9\" >Pena High School</th>\n",
       "                        <td id=\"T_4d01e16e_77da_11ea_85c2_a0999b0e91c7row9_col0\" class=\"data row9 col0\" >83.63</td>\n",
       "                        <td id=\"T_4d01e16e_77da_11ea_85c2_a0999b0e91c7row9_col1\" class=\"data row9 col1\" >83.37</td>\n",
       "                        <td id=\"T_4d01e16e_77da_11ea_85c2_a0999b0e91c7row9_col2\" class=\"data row9 col2\" >84.33</td>\n",
       "                        <td id=\"T_4d01e16e_77da_11ea_85c2_a0999b0e91c7row9_col3\" class=\"data row9 col3\" >84.12</td>\n",
       "            </tr>\n",
       "            <tr>\n",
       "                        <th id=\"T_4d01e16e_77da_11ea_85c2_a0999b0e91c7level0_row10\" class=\"row_heading level0 row10\" >Rodriguez High School</th>\n",
       "                        <td id=\"T_4d01e16e_77da_11ea_85c2_a0999b0e91c7row10_col0\" class=\"data row10 col0\" >76.86</td>\n",
       "                        <td id=\"T_4d01e16e_77da_11ea_85c2_a0999b0e91c7row10_col1\" class=\"data row10 col1\" >76.61</td>\n",
       "                        <td id=\"T_4d01e16e_77da_11ea_85c2_a0999b0e91c7row10_col2\" class=\"data row10 col2\" >76.40</td>\n",
       "                        <td id=\"T_4d01e16e_77da_11ea_85c2_a0999b0e91c7row10_col3\" class=\"data row10 col3\" >77.69</td>\n",
       "            </tr>\n",
       "            <tr>\n",
       "                        <th id=\"T_4d01e16e_77da_11ea_85c2_a0999b0e91c7level0_row11\" class=\"row_heading level0 row11\" >Shelton High School</th>\n",
       "                        <td id=\"T_4d01e16e_77da_11ea_85c2_a0999b0e91c7row11_col0\" class=\"data row11 col0\" >83.42</td>\n",
       "                        <td id=\"T_4d01e16e_77da_11ea_85c2_a0999b0e91c7row11_col1\" class=\"data row11 col1\" >82.92</td>\n",
       "                        <td id=\"T_4d01e16e_77da_11ea_85c2_a0999b0e91c7row11_col2\" class=\"data row11 col2\" >83.38</td>\n",
       "                        <td id=\"T_4d01e16e_77da_11ea_85c2_a0999b0e91c7row11_col3\" class=\"data row11 col3\" >83.78</td>\n",
       "            </tr>\n",
       "            <tr>\n",
       "                        <th id=\"T_4d01e16e_77da_11ea_85c2_a0999b0e91c7level0_row12\" class=\"row_heading level0 row12\" >Thomas High School</th>\n",
       "                        <td id=\"T_4d01e16e_77da_11ea_85c2_a0999b0e91c7row12_col0\" class=\"data row12 col0\" >83.59</td>\n",
       "                        <td id=\"T_4d01e16e_77da_11ea_85c2_a0999b0e91c7row12_col1\" class=\"data row12 col1\" >83.09</td>\n",
       "                        <td id=\"T_4d01e16e_77da_11ea_85c2_a0999b0e91c7row12_col2\" class=\"data row12 col2\" >83.50</td>\n",
       "                        <td id=\"T_4d01e16e_77da_11ea_85c2_a0999b0e91c7row12_col3\" class=\"data row12 col3\" >83.50</td>\n",
       "            </tr>\n",
       "            <tr>\n",
       "                        <th id=\"T_4d01e16e_77da_11ea_85c2_a0999b0e91c7level0_row13\" class=\"row_heading level0 row13\" >Wilson High School</th>\n",
       "                        <td id=\"T_4d01e16e_77da_11ea_85c2_a0999b0e91c7row13_col0\" class=\"data row13 col0\" >83.09</td>\n",
       "                        <td id=\"T_4d01e16e_77da_11ea_85c2_a0999b0e91c7row13_col1\" class=\"data row13 col1\" >83.72</td>\n",
       "                        <td id=\"T_4d01e16e_77da_11ea_85c2_a0999b0e91c7row13_col2\" class=\"data row13 col2\" >83.20</td>\n",
       "                        <td id=\"T_4d01e16e_77da_11ea_85c2_a0999b0e91c7row13_col3\" class=\"data row13 col3\" >83.04</td>\n",
       "            </tr>\n",
       "            <tr>\n",
       "                        <th id=\"T_4d01e16e_77da_11ea_85c2_a0999b0e91c7level0_row14\" class=\"row_heading level0 row14\" >Wright High School</th>\n",
       "                        <td id=\"T_4d01e16e_77da_11ea_85c2_a0999b0e91c7row14_col0\" class=\"data row14 col0\" >83.26</td>\n",
       "                        <td id=\"T_4d01e16e_77da_11ea_85c2_a0999b0e91c7row14_col1\" class=\"data row14 col1\" >84.01</td>\n",
       "                        <td id=\"T_4d01e16e_77da_11ea_85c2_a0999b0e91c7row14_col2\" class=\"data row14 col2\" >83.84</td>\n",
       "                        <td id=\"T_4d01e16e_77da_11ea_85c2_a0999b0e91c7row14_col3\" class=\"data row14 col3\" >83.64</td>\n",
       "            </tr>\n",
       "    </tbody></table>"
      ],
      "text/plain": [
       "<pandas.io.formats.style.Styler at 0x1224cbd50>"
      ]
     },
     "execution_count": 45,
     "metadata": {},
     "output_type": "execute_result"
    }
   ],
   "source": [
    "grade_summary_math = pd.DataFrame({\"9th\": math_score_bygrade_9th, \"10th\": math_score_bygrade_10th, \"11th\": math_score_bygrade_11th, \"12th\": math_score_bygrade_12th})\n",
    "grade_summary_math[[\"9th\",\"10th\",\"11th\",\"12th\"]] = grade_summary_math[[\"9th\",\"10th\",\"11th\",\"12th\"]].applymap(\"{:.2f}\".format)\n",
    "grade_summary_math.style"
   ]
  },
  {
   "cell_type": "markdown",
   "metadata": {},
   "source": [
    "## Reading Score by Grade "
   ]
  },
  {
   "cell_type": "markdown",
   "metadata": {},
   "source": [
    "* Perform the same operations as above for reading scores"
   ]
  },
  {
   "cell_type": "code",
   "execution_count": 46,
   "metadata": {},
   "outputs": [
    {
     "data": {
      "text/html": [
       "<style  type=\"text/css\" >\n",
       "</style><table id=\"T_4dddc800_77da_11ea_85c2_a0999b0e91c7\" ><thead>    <tr>        <th class=\"blank level0\" ></th>        <th class=\"col_heading level0 col0\" >9th</th>        <th class=\"col_heading level0 col1\" >10th</th>        <th class=\"col_heading level0 col2\" >11th</th>        <th class=\"col_heading level0 col3\" >12th</th>    </tr>    <tr>        <th class=\"index_name level0\" >school_name</th>        <th class=\"blank\" ></th>        <th class=\"blank\" ></th>        <th class=\"blank\" ></th>        <th class=\"blank\" ></th>    </tr></thead><tbody>\n",
       "                <tr>\n",
       "                        <th id=\"T_4dddc800_77da_11ea_85c2_a0999b0e91c7level0_row0\" class=\"row_heading level0 row0\" >Bailey High School</th>\n",
       "                        <td id=\"T_4dddc800_77da_11ea_85c2_a0999b0e91c7row0_col0\" class=\"data row0 col0\" >81.30</td>\n",
       "                        <td id=\"T_4dddc800_77da_11ea_85c2_a0999b0e91c7row0_col1\" class=\"data row0 col1\" >80.91</td>\n",
       "                        <td id=\"T_4dddc800_77da_11ea_85c2_a0999b0e91c7row0_col2\" class=\"data row0 col2\" >80.95</td>\n",
       "                        <td id=\"T_4dddc800_77da_11ea_85c2_a0999b0e91c7row0_col3\" class=\"data row0 col3\" >80.91</td>\n",
       "            </tr>\n",
       "            <tr>\n",
       "                        <th id=\"T_4dddc800_77da_11ea_85c2_a0999b0e91c7level0_row1\" class=\"row_heading level0 row1\" >Cabrera High School</th>\n",
       "                        <td id=\"T_4dddc800_77da_11ea_85c2_a0999b0e91c7row1_col0\" class=\"data row1 col0\" >83.68</td>\n",
       "                        <td id=\"T_4dddc800_77da_11ea_85c2_a0999b0e91c7row1_col1\" class=\"data row1 col1\" >84.25</td>\n",
       "                        <td id=\"T_4dddc800_77da_11ea_85c2_a0999b0e91c7row1_col2\" class=\"data row1 col2\" >83.79</td>\n",
       "                        <td id=\"T_4dddc800_77da_11ea_85c2_a0999b0e91c7row1_col3\" class=\"data row1 col3\" >84.29</td>\n",
       "            </tr>\n",
       "            <tr>\n",
       "                        <th id=\"T_4dddc800_77da_11ea_85c2_a0999b0e91c7level0_row2\" class=\"row_heading level0 row2\" >Figueroa High School</th>\n",
       "                        <td id=\"T_4dddc800_77da_11ea_85c2_a0999b0e91c7row2_col0\" class=\"data row2 col0\" >81.20</td>\n",
       "                        <td id=\"T_4dddc800_77da_11ea_85c2_a0999b0e91c7row2_col1\" class=\"data row2 col1\" >81.41</td>\n",
       "                        <td id=\"T_4dddc800_77da_11ea_85c2_a0999b0e91c7row2_col2\" class=\"data row2 col2\" >80.64</td>\n",
       "                        <td id=\"T_4dddc800_77da_11ea_85c2_a0999b0e91c7row2_col3\" class=\"data row2 col3\" >81.38</td>\n",
       "            </tr>\n",
       "            <tr>\n",
       "                        <th id=\"T_4dddc800_77da_11ea_85c2_a0999b0e91c7level0_row3\" class=\"row_heading level0 row3\" >Ford High School</th>\n",
       "                        <td id=\"T_4dddc800_77da_11ea_85c2_a0999b0e91c7row3_col0\" class=\"data row3 col0\" >80.63</td>\n",
       "                        <td id=\"T_4dddc800_77da_11ea_85c2_a0999b0e91c7row3_col1\" class=\"data row3 col1\" >81.26</td>\n",
       "                        <td id=\"T_4dddc800_77da_11ea_85c2_a0999b0e91c7row3_col2\" class=\"data row3 col2\" >80.40</td>\n",
       "                        <td id=\"T_4dddc800_77da_11ea_85c2_a0999b0e91c7row3_col3\" class=\"data row3 col3\" >80.66</td>\n",
       "            </tr>\n",
       "            <tr>\n",
       "                        <th id=\"T_4dddc800_77da_11ea_85c2_a0999b0e91c7level0_row4\" class=\"row_heading level0 row4\" >Griffin High School</th>\n",
       "                        <td id=\"T_4dddc800_77da_11ea_85c2_a0999b0e91c7row4_col0\" class=\"data row4 col0\" >83.37</td>\n",
       "                        <td id=\"T_4dddc800_77da_11ea_85c2_a0999b0e91c7row4_col1\" class=\"data row4 col1\" >83.71</td>\n",
       "                        <td id=\"T_4dddc800_77da_11ea_85c2_a0999b0e91c7row4_col2\" class=\"data row4 col2\" >84.29</td>\n",
       "                        <td id=\"T_4dddc800_77da_11ea_85c2_a0999b0e91c7row4_col3\" class=\"data row4 col3\" >84.01</td>\n",
       "            </tr>\n",
       "            <tr>\n",
       "                        <th id=\"T_4dddc800_77da_11ea_85c2_a0999b0e91c7level0_row5\" class=\"row_heading level0 row5\" >Hernandez High School</th>\n",
       "                        <td id=\"T_4dddc800_77da_11ea_85c2_a0999b0e91c7row5_col0\" class=\"data row5 col0\" >80.87</td>\n",
       "                        <td id=\"T_4dddc800_77da_11ea_85c2_a0999b0e91c7row5_col1\" class=\"data row5 col1\" >80.66</td>\n",
       "                        <td id=\"T_4dddc800_77da_11ea_85c2_a0999b0e91c7row5_col2\" class=\"data row5 col2\" >81.40</td>\n",
       "                        <td id=\"T_4dddc800_77da_11ea_85c2_a0999b0e91c7row5_col3\" class=\"data row5 col3\" >80.86</td>\n",
       "            </tr>\n",
       "            <tr>\n",
       "                        <th id=\"T_4dddc800_77da_11ea_85c2_a0999b0e91c7level0_row6\" class=\"row_heading level0 row6\" >Holden High School</th>\n",
       "                        <td id=\"T_4dddc800_77da_11ea_85c2_a0999b0e91c7row6_col0\" class=\"data row6 col0\" >83.68</td>\n",
       "                        <td id=\"T_4dddc800_77da_11ea_85c2_a0999b0e91c7row6_col1\" class=\"data row6 col1\" >83.32</td>\n",
       "                        <td id=\"T_4dddc800_77da_11ea_85c2_a0999b0e91c7row6_col2\" class=\"data row6 col2\" >83.82</td>\n",
       "                        <td id=\"T_4dddc800_77da_11ea_85c2_a0999b0e91c7row6_col3\" class=\"data row6 col3\" >84.70</td>\n",
       "            </tr>\n",
       "            <tr>\n",
       "                        <th id=\"T_4dddc800_77da_11ea_85c2_a0999b0e91c7level0_row7\" class=\"row_heading level0 row7\" >Huang High School</th>\n",
       "                        <td id=\"T_4dddc800_77da_11ea_85c2_a0999b0e91c7row7_col0\" class=\"data row7 col0\" >81.29</td>\n",
       "                        <td id=\"T_4dddc800_77da_11ea_85c2_a0999b0e91c7row7_col1\" class=\"data row7 col1\" >81.51</td>\n",
       "                        <td id=\"T_4dddc800_77da_11ea_85c2_a0999b0e91c7row7_col2\" class=\"data row7 col2\" >81.42</td>\n",
       "                        <td id=\"T_4dddc800_77da_11ea_85c2_a0999b0e91c7row7_col3\" class=\"data row7 col3\" >80.31</td>\n",
       "            </tr>\n",
       "            <tr>\n",
       "                        <th id=\"T_4dddc800_77da_11ea_85c2_a0999b0e91c7level0_row8\" class=\"row_heading level0 row8\" >Johnson High School</th>\n",
       "                        <td id=\"T_4dddc800_77da_11ea_85c2_a0999b0e91c7row8_col0\" class=\"data row8 col0\" >81.26</td>\n",
       "                        <td id=\"T_4dddc800_77da_11ea_85c2_a0999b0e91c7row8_col1\" class=\"data row8 col1\" >80.77</td>\n",
       "                        <td id=\"T_4dddc800_77da_11ea_85c2_a0999b0e91c7row8_col2\" class=\"data row8 col2\" >80.62</td>\n",
       "                        <td id=\"T_4dddc800_77da_11ea_85c2_a0999b0e91c7row8_col3\" class=\"data row8 col3\" >81.23</td>\n",
       "            </tr>\n",
       "            <tr>\n",
       "                        <th id=\"T_4dddc800_77da_11ea_85c2_a0999b0e91c7level0_row9\" class=\"row_heading level0 row9\" >Pena High School</th>\n",
       "                        <td id=\"T_4dddc800_77da_11ea_85c2_a0999b0e91c7row9_col0\" class=\"data row9 col0\" >83.81</td>\n",
       "                        <td id=\"T_4dddc800_77da_11ea_85c2_a0999b0e91c7row9_col1\" class=\"data row9 col1\" >83.61</td>\n",
       "                        <td id=\"T_4dddc800_77da_11ea_85c2_a0999b0e91c7row9_col2\" class=\"data row9 col2\" >84.34</td>\n",
       "                        <td id=\"T_4dddc800_77da_11ea_85c2_a0999b0e91c7row9_col3\" class=\"data row9 col3\" >84.59</td>\n",
       "            </tr>\n",
       "            <tr>\n",
       "                        <th id=\"T_4dddc800_77da_11ea_85c2_a0999b0e91c7level0_row10\" class=\"row_heading level0 row10\" >Rodriguez High School</th>\n",
       "                        <td id=\"T_4dddc800_77da_11ea_85c2_a0999b0e91c7row10_col0\" class=\"data row10 col0\" >80.99</td>\n",
       "                        <td id=\"T_4dddc800_77da_11ea_85c2_a0999b0e91c7row10_col1\" class=\"data row10 col1\" >80.63</td>\n",
       "                        <td id=\"T_4dddc800_77da_11ea_85c2_a0999b0e91c7row10_col2\" class=\"data row10 col2\" >80.86</td>\n",
       "                        <td id=\"T_4dddc800_77da_11ea_85c2_a0999b0e91c7row10_col3\" class=\"data row10 col3\" >80.38</td>\n",
       "            </tr>\n",
       "            <tr>\n",
       "                        <th id=\"T_4dddc800_77da_11ea_85c2_a0999b0e91c7level0_row11\" class=\"row_heading level0 row11\" >Shelton High School</th>\n",
       "                        <td id=\"T_4dddc800_77da_11ea_85c2_a0999b0e91c7row11_col0\" class=\"data row11 col0\" >84.12</td>\n",
       "                        <td id=\"T_4dddc800_77da_11ea_85c2_a0999b0e91c7row11_col1\" class=\"data row11 col1\" >83.44</td>\n",
       "                        <td id=\"T_4dddc800_77da_11ea_85c2_a0999b0e91c7row11_col2\" class=\"data row11 col2\" >84.37</td>\n",
       "                        <td id=\"T_4dddc800_77da_11ea_85c2_a0999b0e91c7row11_col3\" class=\"data row11 col3\" >82.78</td>\n",
       "            </tr>\n",
       "            <tr>\n",
       "                        <th id=\"T_4dddc800_77da_11ea_85c2_a0999b0e91c7level0_row12\" class=\"row_heading level0 row12\" >Thomas High School</th>\n",
       "                        <td id=\"T_4dddc800_77da_11ea_85c2_a0999b0e91c7row12_col0\" class=\"data row12 col0\" >83.73</td>\n",
       "                        <td id=\"T_4dddc800_77da_11ea_85c2_a0999b0e91c7row12_col1\" class=\"data row12 col1\" >84.25</td>\n",
       "                        <td id=\"T_4dddc800_77da_11ea_85c2_a0999b0e91c7row12_col2\" class=\"data row12 col2\" >83.59</td>\n",
       "                        <td id=\"T_4dddc800_77da_11ea_85c2_a0999b0e91c7row12_col3\" class=\"data row12 col3\" >83.83</td>\n",
       "            </tr>\n",
       "            <tr>\n",
       "                        <th id=\"T_4dddc800_77da_11ea_85c2_a0999b0e91c7level0_row13\" class=\"row_heading level0 row13\" >Wilson High School</th>\n",
       "                        <td id=\"T_4dddc800_77da_11ea_85c2_a0999b0e91c7row13_col0\" class=\"data row13 col0\" >83.94</td>\n",
       "                        <td id=\"T_4dddc800_77da_11ea_85c2_a0999b0e91c7row13_col1\" class=\"data row13 col1\" >84.02</td>\n",
       "                        <td id=\"T_4dddc800_77da_11ea_85c2_a0999b0e91c7row13_col2\" class=\"data row13 col2\" >83.76</td>\n",
       "                        <td id=\"T_4dddc800_77da_11ea_85c2_a0999b0e91c7row13_col3\" class=\"data row13 col3\" >84.32</td>\n",
       "            </tr>\n",
       "            <tr>\n",
       "                        <th id=\"T_4dddc800_77da_11ea_85c2_a0999b0e91c7level0_row14\" class=\"row_heading level0 row14\" >Wright High School</th>\n",
       "                        <td id=\"T_4dddc800_77da_11ea_85c2_a0999b0e91c7row14_col0\" class=\"data row14 col0\" >83.83</td>\n",
       "                        <td id=\"T_4dddc800_77da_11ea_85c2_a0999b0e91c7row14_col1\" class=\"data row14 col1\" >83.81</td>\n",
       "                        <td id=\"T_4dddc800_77da_11ea_85c2_a0999b0e91c7row14_col2\" class=\"data row14 col2\" >84.16</td>\n",
       "                        <td id=\"T_4dddc800_77da_11ea_85c2_a0999b0e91c7row14_col3\" class=\"data row14 col3\" >84.07</td>\n",
       "            </tr>\n",
       "    </tbody></table>"
      ],
      "text/plain": [
       "<pandas.io.formats.style.Styler at 0x123f2d210>"
      ]
     },
     "execution_count": 46,
     "metadata": {},
     "output_type": "execute_result"
    }
   ],
   "source": [
    "\n",
    "#Create a pandas series for each grade. Group each series by school.\n",
    "\n",
    "reading_score_bygrade_9th = school_data_complete[school_data_complete[\"grade\"] == \"9th\"].groupby(\"school_name\").mean()[\"reading_score\"]\n",
    "reading_score_bygrade_10th = school_data_complete[school_data_complete[\"grade\"] == \"10th\"].groupby(\"school_name\").mean()[\"reading_score\"]\n",
    "reading_score_bygrade_11th = school_data_complete[school_data_complete[\"grade\"] == \"11th\"].groupby(\"school_name\").mean()[\"reading_score\"]\n",
    "reading_score_bygrade_12th = school_data_complete[school_data_complete[\"grade\"] == \"12th\"].groupby(\"school_name\").mean()[\"reading_score\"]\n",
    "grade_summary_reading = pd.DataFrame({\"9th\": reading_score_bygrade_9th, \"10th\": reading_score_bygrade_10th, \"11th\": reading_score_bygrade_11th, \"12th\": reading_score_bygrade_12th})\n",
    "grade_summary_reading[[\"9th\",\"10th\",\"11th\",\"12th\"]] = grade_summary_reading[[\"9th\",\"10th\",\"11th\",\"12th\"]].applymap(\"{:.2f}\".format)\n",
    "grade_summary_reading.style"
   ]
  },
  {
   "cell_type": "markdown",
   "metadata": {},
   "source": [
    "## Scores by School Spending"
   ]
  },
  {
   "cell_type": "markdown",
   "metadata": {},
   "source": [
    "* Create a table that breaks down school performances based on average Spending Ranges (Per Student). Use 4 reasonable bins to group school spending. Include in the table each of the following:\n",
    "  * Average Math Score\n",
    "  * Average Reading Score\n",
    "  * % Passing Math\n",
    "  * % Passing Reading\n",
    "  * Overall Passing Rate (Average of the above two)"
   ]
  },
  {
   "cell_type": "code",
   "execution_count": 47,
   "metadata": {},
   "outputs": [
    {
     "name": "stdout",
     "output_type": "stream",
     "text": [
      "578.0\n",
      "655.0\n"
     ]
    }
   ],
   "source": [
    "# figure out average student budget per student\n",
    "print(per_student_budget_df.min())\n",
    "print(per_student_budget_df.max())"
   ]
  },
  {
   "cell_type": "code",
   "execution_count": 48,
   "metadata": {},
   "outputs": [],
   "source": [
    "bins = [0,584,629,644,675]\n",
    "group_names = [\"<$584\",\"$585-629\",\"$630-644\",\"$645-675\"]\n",
    "School_summary[\"Per Student Budget\"] = School_summary[\"Per Student Budget\"].apply(lambda x: x.replace('$', '').replace(',', '')).astype('float')"
   ]
  },
  {
   "cell_type": "code",
   "execution_count": 49,
   "metadata": {},
   "outputs": [],
   "source": [
    "School_summary = School_summary.reset_index()"
   ]
  },
  {
   "cell_type": "code",
   "execution_count": 50,
   "metadata": {},
   "outputs": [
    {
     "data": {
      "text/html": [
       "<style  type=\"text/css\" >\n",
       "</style><table id=\"T_4f6ff576_77da_11ea_85c2_a0999b0e91c7\" ><thead>    <tr>        <th class=\"blank level0\" ></th>        <th class=\"col_heading level0 col0\" >Average Math Score</th>        <th class=\"col_heading level0 col1\" >Average Reading Score</th>        <th class=\"col_heading level0 col2\" >% Passing Math</th>        <th class=\"col_heading level0 col3\" >% Passing Reading</th>        <th class=\"col_heading level0 col4\" >% Overall Passing</th>    </tr>    <tr>        <th class=\"index_name level0\" >Spending Ranges (Per Student)</th>        <th class=\"blank\" ></th>        <th class=\"blank\" ></th>        <th class=\"blank\" ></th>        <th class=\"blank\" ></th>        <th class=\"blank\" ></th>    </tr></thead><tbody>\n",
       "                <tr>\n",
       "                        <th id=\"T_4f6ff576_77da_11ea_85c2_a0999b0e91c7level0_row0\" class=\"row_heading level0 row0\" ><$584</th>\n",
       "                        <td id=\"T_4f6ff576_77da_11ea_85c2_a0999b0e91c7row0_col0\" class=\"data row0 col0\" >83.4525</td>\n",
       "                        <td id=\"T_4f6ff576_77da_11ea_85c2_a0999b0e91c7row0_col1\" class=\"data row0 col1\" >83.935</td>\n",
       "                        <td id=\"T_4f6ff576_77da_11ea_85c2_a0999b0e91c7row0_col2\" class=\"data row0 col2\" >93.46</td>\n",
       "                        <td id=\"T_4f6ff576_77da_11ea_85c2_a0999b0e91c7row0_col3\" class=\"data row0 col3\" >96.61</td>\n",
       "                        <td id=\"T_4f6ff576_77da_11ea_85c2_a0999b0e91c7row0_col4\" class=\"data row0 col4\" >95.035</td>\n",
       "            </tr>\n",
       "            <tr>\n",
       "                        <th id=\"T_4f6ff576_77da_11ea_85c2_a0999b0e91c7level0_row1\" class=\"row_heading level0 row1\" >$585-629</th>\n",
       "                        <td id=\"T_4f6ff576_77da_11ea_85c2_a0999b0e91c7row1_col0\" class=\"data row1 col0\" >81.9</td>\n",
       "                        <td id=\"T_4f6ff576_77da_11ea_85c2_a0999b0e91c7row1_col1\" class=\"data row1 col1\" >83.155</td>\n",
       "                        <td id=\"T_4f6ff576_77da_11ea_85c2_a0999b0e91c7row1_col2\" class=\"data row1 col2\" >87.1325</td>\n",
       "                        <td id=\"T_4f6ff576_77da_11ea_85c2_a0999b0e91c7row1_col3\" class=\"data row1 col3\" >92.7175</td>\n",
       "                        <td id=\"T_4f6ff576_77da_11ea_85c2_a0999b0e91c7row1_col4\" class=\"data row1 col4\" >89.9275</td>\n",
       "            </tr>\n",
       "            <tr>\n",
       "                        <th id=\"T_4f6ff576_77da_11ea_85c2_a0999b0e91c7level0_row2\" class=\"row_heading level0 row2\" >$630-644</th>\n",
       "                        <td id=\"T_4f6ff576_77da_11ea_85c2_a0999b0e91c7row2_col0\" class=\"data row2 col0\" >78.5175</td>\n",
       "                        <td id=\"T_4f6ff576_77da_11ea_85c2_a0999b0e91c7row2_col1\" class=\"data row2 col1\" >81.625</td>\n",
       "                        <td id=\"T_4f6ff576_77da_11ea_85c2_a0999b0e91c7row2_col2\" class=\"data row2 col2\" >73.485</td>\n",
       "                        <td id=\"T_4f6ff576_77da_11ea_85c2_a0999b0e91c7row2_col3\" class=\"data row2 col3\" >84.3925</td>\n",
       "                        <td id=\"T_4f6ff576_77da_11ea_85c2_a0999b0e91c7row2_col4\" class=\"data row2 col4\" >78.935</td>\n",
       "            </tr>\n",
       "            <tr>\n",
       "                        <th id=\"T_4f6ff576_77da_11ea_85c2_a0999b0e91c7level0_row3\" class=\"row_heading level0 row3\" >$645-675</th>\n",
       "                        <td id=\"T_4f6ff576_77da_11ea_85c2_a0999b0e91c7row3_col0\" class=\"data row3 col0\" >76.9967</td>\n",
       "                        <td id=\"T_4f6ff576_77da_11ea_85c2_a0999b0e91c7row3_col1\" class=\"data row3 col1\" >81.0267</td>\n",
       "                        <td id=\"T_4f6ff576_77da_11ea_85c2_a0999b0e91c7row3_col2\" class=\"data row3 col2\" >66.1633</td>\n",
       "                        <td id=\"T_4f6ff576_77da_11ea_85c2_a0999b0e91c7row3_col3\" class=\"data row3 col3\" >81.1333</td>\n",
       "                        <td id=\"T_4f6ff576_77da_11ea_85c2_a0999b0e91c7row3_col4\" class=\"data row3 col4\" >73.65</td>\n",
       "            </tr>\n",
       "    </tbody></table>"
      ],
      "text/plain": [
       "<pandas.io.formats.style.Styler at 0x123bc5f90>"
      ]
     },
     "execution_count": 50,
     "metadata": {},
     "output_type": "execute_result"
    }
   ],
   "source": [
    "School_summary[\"Spending Ranges (Per Student)\"] = pd.cut(School_summary[\"Per Student Budget\"], bins, labels=group_names)\n",
    "# Groupby Spending ranges\n",
    "grouped_spend_df = School_summary.groupby([\"Spending Ranges (Per Student)\"])              \n",
    "# Calculate the values for the data table\n",
    "spending_summary_df = grouped_spend_df.mean()\n",
    "# Display Summary\n",
    "spending_summary_df[[\"Average Math Score\",\"Average Reading Score\",\"% Passing Math\",\"% Passing Reading\",\"% Overall Passing\"]].style"
   ]
  },
  {
   "cell_type": "markdown",
   "metadata": {},
   "source": [
    "## Scores by School Size"
   ]
  },
  {
   "cell_type": "markdown",
   "metadata": {},
   "source": [
    "* Perform the same operations as above, based on school size."
   ]
  },
  {
   "cell_type": "code",
   "execution_count": 51,
   "metadata": {},
   "outputs": [
    {
     "data": {
      "text/html": [
       "<style  type=\"text/css\" >\n",
       "</style><table id=\"T_5048939a_77da_11ea_85c2_a0999b0e91c7\" ><thead>    <tr>        <th class=\"blank level0\" ></th>        <th class=\"col_heading level0 col0\" >Average Math Score</th>        <th class=\"col_heading level0 col1\" >Average Reading Score</th>        <th class=\"col_heading level0 col2\" >% Passing Math</th>        <th class=\"col_heading level0 col3\" >% Passing Reading</th>        <th class=\"col_heading level0 col4\" >% Overall Passing</th>    </tr>    <tr>        <th class=\"index_name level0\" >School Size</th>        <th class=\"blank\" ></th>        <th class=\"blank\" ></th>        <th class=\"blank\" ></th>        <th class=\"blank\" ></th>        <th class=\"blank\" ></th>    </tr></thead><tbody>\n",
       "                <tr>\n",
       "                        <th id=\"T_5048939a_77da_11ea_85c2_a0999b0e91c7level0_row0\" class=\"row_heading level0 row0\" >Small (<1000)</th>\n",
       "                        <td id=\"T_5048939a_77da_11ea_85c2_a0999b0e91c7row0_col0\" class=\"data row0 col0\" >83.82</td>\n",
       "                        <td id=\"T_5048939a_77da_11ea_85c2_a0999b0e91c7row0_col1\" class=\"data row0 col1\" >83.925</td>\n",
       "                        <td id=\"T_5048939a_77da_11ea_85c2_a0999b0e91c7row0_col2\" class=\"data row0 col2\" >93.55</td>\n",
       "                        <td id=\"T_5048939a_77da_11ea_85c2_a0999b0e91c7row0_col3\" class=\"data row0 col3\" >96.1</td>\n",
       "                        <td id=\"T_5048939a_77da_11ea_85c2_a0999b0e91c7row0_col4\" class=\"data row0 col4\" >94.825</td>\n",
       "            </tr>\n",
       "            <tr>\n",
       "                        <th id=\"T_5048939a_77da_11ea_85c2_a0999b0e91c7level0_row1\" class=\"row_heading level0 row1\" >Medium (1000-2000)</th>\n",
       "                        <td id=\"T_5048939a_77da_11ea_85c2_a0999b0e91c7row1_col0\" class=\"data row1 col0\" >83.374</td>\n",
       "                        <td id=\"T_5048939a_77da_11ea_85c2_a0999b0e91c7row1_col1\" class=\"data row1 col1\" >83.868</td>\n",
       "                        <td id=\"T_5048939a_77da_11ea_85c2_a0999b0e91c7row1_col2\" class=\"data row1 col2\" >93.598</td>\n",
       "                        <td id=\"T_5048939a_77da_11ea_85c2_a0999b0e91c7row1_col3\" class=\"data row1 col3\" >96.79</td>\n",
       "                        <td id=\"T_5048939a_77da_11ea_85c2_a0999b0e91c7row1_col4\" class=\"data row1 col4\" >95.196</td>\n",
       "            </tr>\n",
       "            <tr>\n",
       "                        <th id=\"T_5048939a_77da_11ea_85c2_a0999b0e91c7level0_row2\" class=\"row_heading level0 row2\" >Large (2000-5000)</th>\n",
       "                        <td id=\"T_5048939a_77da_11ea_85c2_a0999b0e91c7row2_col0\" class=\"data row2 col0\" >77.745</td>\n",
       "                        <td id=\"T_5048939a_77da_11ea_85c2_a0999b0e91c7row2_col1\" class=\"data row2 col1\" >81.3438</td>\n",
       "                        <td id=\"T_5048939a_77da_11ea_85c2_a0999b0e91c7row2_col2\" class=\"data row2 col2\" >69.9638</td>\n",
       "                        <td id=\"T_5048939a_77da_11ea_85c2_a0999b0e91c7row2_col3\" class=\"data row2 col3\" >82.7662</td>\n",
       "                        <td id=\"T_5048939a_77da_11ea_85c2_a0999b0e91c7row2_col4\" class=\"data row2 col4\" >76.3638</td>\n",
       "            </tr>\n",
       "    </tbody></table>"
      ],
      "text/plain": [
       "<pandas.io.formats.style.Styler at 0x123b486d0>"
      ]
     },
     "execution_count": 51,
     "metadata": {},
     "output_type": "execute_result"
    }
   ],
   "source": [
    "# Sample bins. Feel free to create your own bins.\n",
    "size_bins = [0, 1000, 2000, 5000]\n",
    "group_names = [\"Small (<1000)\", \"Medium (1000-2000)\", \"Large (2000-5000)\"]\n",
    "School_summary = School_summary.reset_index()\n",
    "# Add Spending Ranges by Bins\n",
    "School_summary[\"School Size\"] = pd.cut(School_summary[\"Total Students\"], size_bins, labels=group_names)\n",
    "# Groupby Spending ranges\n",
    "grouped_size_df = School_summary.groupby([\"School Size\"])   \n",
    "# Calculate the values for the data table\n",
    "size_summary_df = grouped_size_df.mean()\n",
    "\n",
    "# Display Summary\n",
    "size_summary_df[[\"Average Math Score\",\n",
    "                \"Average Reading Score\",\n",
    "                \"% Passing Math\",\n",
    "                \"% Passing Reading\",\n",
    "                \"% Overall Passing\"]].style"
   ]
  },
  {
   "cell_type": "markdown",
   "metadata": {},
   "source": [
    "## Scores by School Type"
   ]
  },
  {
   "cell_type": "markdown",
   "metadata": {},
   "source": [
    "* Perform the same operations as above, based on school type"
   ]
  },
  {
   "cell_type": "code",
   "execution_count": 52,
   "metadata": {},
   "outputs": [
    {
     "data": {
      "text/html": [
       "<style  type=\"text/css\" >\n",
       "</style><table id=\"T_51ed9cfe_77da_11ea_85c2_a0999b0e91c7\" ><thead>    <tr>        <th class=\"blank level0\" ></th>        <th class=\"col_heading level0 col0\" >Average Math Score</th>        <th class=\"col_heading level0 col1\" >Average Reading Score</th>        <th class=\"col_heading level0 col2\" >% Passing Math</th>        <th class=\"col_heading level0 col3\" >% Passing Reading</th>        <th class=\"col_heading level0 col4\" >% Overall Passing</th>    </tr>    <tr>        <th class=\"index_name level0\" >School Type</th>        <th class=\"blank\" ></th>        <th class=\"blank\" ></th>        <th class=\"blank\" ></th>        <th class=\"blank\" ></th>        <th class=\"blank\" ></th>    </tr></thead><tbody>\n",
       "                <tr>\n",
       "                        <th id=\"T_51ed9cfe_77da_11ea_85c2_a0999b0e91c7level0_row0\" class=\"row_heading level0 row0\" >Charter</th>\n",
       "                        <td id=\"T_51ed9cfe_77da_11ea_85c2_a0999b0e91c7row0_col0\" class=\"data row0 col0\" >83.4725</td>\n",
       "                        <td id=\"T_51ed9cfe_77da_11ea_85c2_a0999b0e91c7row0_col1\" class=\"data row0 col1\" >83.8975</td>\n",
       "                        <td id=\"T_51ed9cfe_77da_11ea_85c2_a0999b0e91c7row0_col2\" class=\"data row0 col2\" >93.62</td>\n",
       "                        <td id=\"T_51ed9cfe_77da_11ea_85c2_a0999b0e91c7row0_col3\" class=\"data row0 col3\" >96.5862</td>\n",
       "                        <td id=\"T_51ed9cfe_77da_11ea_85c2_a0999b0e91c7row0_col4\" class=\"data row0 col4\" >95.1038</td>\n",
       "            </tr>\n",
       "            <tr>\n",
       "                        <th id=\"T_51ed9cfe_77da_11ea_85c2_a0999b0e91c7level0_row1\" class=\"row_heading level0 row1\" >District</th>\n",
       "                        <td id=\"T_51ed9cfe_77da_11ea_85c2_a0999b0e91c7row1_col0\" class=\"data row1 col0\" >76.9557</td>\n",
       "                        <td id=\"T_51ed9cfe_77da_11ea_85c2_a0999b0e91c7row1_col1\" class=\"data row1 col1\" >80.9657</td>\n",
       "                        <td id=\"T_51ed9cfe_77da_11ea_85c2_a0999b0e91c7row1_col2\" class=\"data row1 col2\" >66.5486</td>\n",
       "                        <td id=\"T_51ed9cfe_77da_11ea_85c2_a0999b0e91c7row1_col3\" class=\"data row1 col3\" >80.7986</td>\n",
       "                        <td id=\"T_51ed9cfe_77da_11ea_85c2_a0999b0e91c7row1_col4\" class=\"data row1 col4\" >73.6729</td>\n",
       "            </tr>\n",
       "    </tbody></table>"
      ],
      "text/plain": [
       "<pandas.io.formats.style.Styler at 0x122a43790>"
      ]
     },
     "execution_count": 52,
     "metadata": {},
     "output_type": "execute_result"
    }
   ],
   "source": [
    "School_summary = School_summary.reset_index()\n",
    "grouped_type_df = School_summary.groupby([\"School Type\"])\n",
    "type_summary_df = grouped_type_df.mean()\n",
    "type_summary_df[[\"Average Math Score\",\n",
    "                \"Average Reading Score\",\n",
    "                \"% Passing Math\",\n",
    "                \"% Passing Reading\",\n",
    "                \"% Overall Passing\"]].style"
   ]
  },
  {
   "cell_type": "code",
   "execution_count": null,
   "metadata": {},
   "outputs": [],
   "source": []
  }
 ],
 "metadata": {
  "anaconda-cloud": {},
  "kernel_info": {
   "name": "python3"
  },
  "kernelspec": {
   "display_name": "Python 3",
   "language": "python",
   "name": "python3"
  },
  "language_info": {
   "codemirror_mode": {
    "name": "ipython",
    "version": 3
   },
   "file_extension": ".py",
   "mimetype": "text/x-python",
   "name": "python",
   "nbconvert_exporter": "python",
   "pygments_lexer": "ipython3",
   "version": "3.7.4"
  },
  "latex_envs": {
   "LaTeX_envs_menu_present": true,
   "autoclose": false,
   "autocomplete": true,
   "bibliofile": "biblio.bib",
   "cite_by": "apalike",
   "current_citInitial": 1,
   "eqLabelWithNumbers": true,
   "eqNumInitial": 1,
   "hotkeys": {
    "equation": "Ctrl-E",
    "itemize": "Ctrl-I"
   },
   "labels_anchors": false,
   "latex_user_defs": false,
   "report_style_numbering": false,
   "user_envs_cfg": false
  },
  "nteract": {
   "version": "0.8.4"
  }
 },
 "nbformat": 4,
 "nbformat_minor": 1
}
